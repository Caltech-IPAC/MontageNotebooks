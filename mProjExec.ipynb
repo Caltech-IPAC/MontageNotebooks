{
 "cells": [
  {
   "cell_type": "markdown",
   "metadata": {},
   "source": [
    "<font style=\"font-size:96px; font-weight:bolder; color:#0040a0\"><img src=\"http://montage.ipac.caltech.edu/docs/M51_logo.png\" alt=\"M\" style=\"float: left; padding: 25px 30px 25px 0px;\" /></font>\n",
    "\n",
    "<i><b>Montage</b> is a general astronomical image toolkit with facilities for reprojection, background matching, coaddition and visualization.  It can be used as a set of command-line tools (Linux, OS X and Windows), C library calls (Linux and OS X) and as Python binary extension modules.</i>\n",
    "    \n",
    "<i>Montage source code can be downloaded from GitHub ( https://github.com/Caltech-IPAC/Montage ).  The Python package can be installed from PyPI (\"pip install MontagePy\"). See\n",
    "http://montage.ipac.caltech.edu/ for more information.</i>"
   ]
  },
  {
   "cell_type": "markdown",
   "metadata": {},
   "source": [
    "# MontagePy.main modules: mProjExec\n",
    "\n",
    "A large percentage of the Montage modules focus on processing a set of images (often retrieved from a mission archive); projecting them to a common frame, adjusting their background levels as a set, and coadding them into a mosaic.\n",
    "\n",
    "This page is focused on the details of one of these modules: mProjExec.  For a broader context, please see <a href=\"Mosaic.ipynb\">Building a Mosaic with Montage</a> or the <a href=\"Mosaic_oneshot.ipynb\"> one shot </a> version if you just want to see the commands.\n",
    "\n",
    "\n",
    "<b>Note:</b> The MontagePy python package has no external dependencies. We include other utilities on this page to aid in visualizing MontagePy package results."
   ]
  },
  {
   "cell_type": "code",
   "execution_count": 1,
   "metadata": {
    "scrolled": true
   },
   "outputs": [
    {
     "name": "stdout",
     "output_type": "stream",
     "text": [
      "Help on built-in function mProjExec in module MontagePy.main:\n",
      "\n",
      "mProjExec(...)\n",
      "    mProjExec loops over a list of images, reprojecting each of them using mProject, mProjectPP or mProjectQL.\n",
      "    \n",
      "    Parameters\n",
      "    ----------\n",
      "    path : str\n",
      "        Path to raw image directory.\n",
      "    tblfile : str\n",
      "        Table file list of raw images .\n",
      "    template : str\n",
      "        FITS header file used to define the desired output.\n",
      "    projdir : str, optional\n",
      "        Path to output projected image directory.\n",
      "    quickMode : bool, optional\n",
      "        Flag to force use of mProjectQL function.\n",
      "    exact : bool, optional\n",
      "        Flag to force use of mProject over mProjectPP function.  No-op if quickMode is used.\n",
      "    wholeImages : bool, optional\n",
      "        Flag to force reprojection of all of each image, even outside template region.\n",
      "    energyMode : bool, optional\n",
      "        Pixel values are total energy rather than energy density.\n",
      "    border : str, optional\n",
      "        Optional string that contains either a border width or comma-separated 'x1,y1,x2,y2, ...' pairs defining a pixel region polygon where we keep only the data inside.\n",
      "    scaleCol : str, optional\n",
      "        Table file can have columns defining scale.\n",
      "    weightCol : str, optional\n",
      "        and weighting values to be applied to data and 'area' output files.\n",
      "    restart : int, optional\n",
      "        Bulk reprojection sometimes needs to be restarted part way through the list. This is the record in the table to start with.\n",
      "    stats : str, optional\n",
      "        The programs keeps statistics on each reprojection in this file.\n",
      "    debug : int, optional\n",
      "        Debugging output level.\n",
      "    \n",
      "    \n",
      "    Returns\n",
      "    -------\n",
      "    status : int\n",
      "        Return status (0: OK, 1:ERROR).\n",
      "    msg : str\n",
      "        Return message (for errors).\n",
      "    count : int\n",
      "        Total number of images.\n",
      "    failed : int\n",
      "        Number of reprojections that failed.\n",
      "    nooverlap : int\n",
      "        Number of images not overlapping the region of interest.\n",
      "\n"
     ]
    }
   ],
   "source": [
    "from MontagePy.main import mProjExec, mViewer\n",
    "\n",
    "help(mProjExec)"
   ]
  },
  {
   "cell_type": "markdown",
   "metadata": {},
   "source": [
    "## Example\n",
    "\n",
    "A mosaic image can contain hundreds or thousands of input image, especially from large uniform surveys like 2MASS or SDSS.  Each one must be reprojected to a common frame so mProjExec is a convenience wrapper around the Montage reprojection functions (mProject, mProjectPP, mProjectQL) that simplifies this, looping over an image list an calling the correct function for each one.\n",
    "\n",
    "Most of the optional arguments to mProjExec are passed-through to the projection function.  In its own right the principle arguments are the path to the input image directory, the list of input images (a metadata table), the output image header template, an output directory, and an ouput table for run statistics."
   ]
  },
  {
   "cell_type": "code",
   "execution_count": 2,
   "metadata": {},
   "outputs": [
    {
     "name": "stdout",
     "output_type": "stream",
     "text": [
      "{'status': '0', 'count': 85, 'failed': 0, 'nooverlap': 0}\n"
     ]
    }
   ],
   "source": [
    "import os\n",
    "\n",
    "try:\n",
    "   os.makedirs('work/M17/projected')\n",
    "except:\n",
    "   pass\n",
    "\n",
    "rtn = mProjExec('M17/raw',\n",
    "                'M17/rimages.tbl', \n",
    "                'M17/M17.hdr', \n",
    "                'work/M17/projected')\n",
    "\n",
    "print(rtn)"
   ]
  },
  {
   "cell_type": "markdown",
   "metadata": {},
   "source": [
    "The 'count' shows the number of images reprojected; 'failed' the ones that did not work; and 'nooverlap' the number outside the region of interest."
   ]
  },
  {
   "cell_type": "markdown",
   "metadata": {},
   "source": [
    "&nbsp;<p/>\n",
    "\n",
    "## Error Handling\n",
    "\n",
    "If mFitExec encounters an error, the return structure will just have two elements: a status of 1 (\"error\") and a message string that tries to diagnose the reason for the error.\n",
    "\n",
    "For instance, if the user specifies a table that doesn't exist: \n"
   ]
  },
  {
   "cell_type": "code",
   "execution_count": 3,
   "metadata": {},
   "outputs": [
    {
     "name": "stdout",
     "output_type": "stream",
     "text": [
      "{'status': '1', 'msg': b'Image metadata file (M17/unknown.tbl) does not exist'}\n"
     ]
    }
   ],
   "source": [
    "rtn = mProjExec('M17/raw',\n",
    "                'M17/unknown.tbl', \n",
    "                'M17/region.hdr', \n",
    "                'work/M17/projected')\n",
    "\n",
    "print(rtn)"
   ]
  },
  {
   "cell_type": "markdown",
   "metadata": {},
   "source": [
    "&nbsp;\n",
    "\n",
    "# Classic Montage: mProjExec as a Stand-Alone Program\n",
    "\n",
    "### mProjExec Unix/Windows Command-line Arguments\n",
    "\n",
    "<p>mProjExec can also be run as a command-line tool in Linux, OS X, and Windows:</p>\n",
    "\n",
    "<p><tt>\n",
    "<b>Usage:</b> mProjExec [-q(uick-mode)][-p rawdir] [-d] [-e(xact)] [-X(whole image)] [-b border] [-r restartrec] [-s statusfile] [-W weightColumn] [-x scaleColumn] images.tbl template.hdr projdir stats.tbl\n",
    "</tt></p>\n",
    "<p>&nbsp;</p>\n",
    "<p>If you are writing in C/C++, mProjExec can be accessed as a library function:</p>\n"
   ]
  },
  {
   "cell_type": "markdown",
   "metadata": {},
   "source": [
    "<pre>\n",
    "/*-***********************************************************************/\n",
    "/*                                                                       */\n",
    "/*  mProjExec                                                            */\n",
    "/*                                                                       */\n",
    "/*  Montage is a set of general reprojection / coordinate-transform /    */\n",
    "/*  mosaicking programs.  Any number of input images can be merged into  */\n",
    "/*  an output FITS file.  The attributes of the input are read from the  */\n",
    "/*  input files; the attributes of the output are read a combination of  */\n",
    "/*  the command line and a FITS header template file.                    */\n",
    "/*                                                                       */\n",
    "/*  This module, mProjExec, runs one of the reprojection routines        */\n",
    "/*  (mProject, mProjectPP or mProjectQL) on a set of images to get them  */\n",
    "/*  all into a common projection.                                        */\n",
    "/*                                                                       */\n",
    "/*   char  *path           Path to raw image directory                   */\n",
    "/*   char  *tblfile        Table file list of raw images                 */\n",
    "/*   char  *template       FITS header file used to define the desired   */\n",
    "/*                         output                                        */\n",
    "/*                                                                       */\n",
    "/*   char  *projdir        Path to output projected image directory      */\n",
    "/*   int    quickMode      Flag to force use of mProjectQL function      */\n",
    "/*   int    exact          Flag to force use of mProject over mProjectPP */\n",
    "/*                         function.  No-op if quickMode is used.        */\n",
    "/*                                                                       */\n",
    "/*   int    expand         Flag to force reprojection of all of each     */\n",
    "/*                         image, even outside template region           */\n",
    "/*                                                                       */\n",
    "/*   int    energyMode     Pixel values are total energy rather than     */\n",
    "/*                         energy density.                               */\n",
    "/*                                                                       */\n",
    "/*   char  *borderStr      Optional string that contains either a border */\n",
    "/*                         width or comma-separated 'x1,y1,x2,y2, ...'   */\n",
    "/*                         pairs defining a pixel region polygon where   */\n",
    "/*                         we keep only the data inside.                 */\n",
    "/*                                                                       */\n",
    "/*   char  *scaleCol       Table file can have columns defining scale    */\n",
    "/*   char  *weightCol      and weighting values to be applied to data    */\n",
    "/*                         and 'area' output files.                      */\n",
    "/*                                                                       */\n",
    "/*   int    restart        Bulk reprojection sometimes needs to be       */\n",
    "/*                         restarted part way through the list. This is  */\n",
    "/*                         the record in the table to start with.        */\n",
    "/*                                                                       */\n",
    "/*   char  *stats          The programs keeps statistics on each         */\n",
    "/*                         reprojection in this file.                    */\n",
    "/*                                                                       */\n",
    "/*   int    debug          Debugging output level                        */\n",
    "/*                                                                       */\n",
    "/*************************************************************************/\n",
    "\n",
    "struct mProjExecReturn *mProjExec(char *path, char *tblfile, char *template, char *projdir, int quickMode,\n",
    "                                  int exact, int expand, int energyMode, char *borderStr, char *scaleCol,\n",
    "                                  char *weightCol, int restart, char *stats, int debugin)\n",
    "</pre>\n",
    "<p><b>Return Structure</b></p>\n",
    "<pre>\n",
    "struct mProjExecReturn\n",
    "{\n",
    "   int    status;        // Return status (0: OK, 1:ERROR)\n",
    "   char   msg [1024];    // Return message (for error return)\n",
    "   char   json[4096];    // Return parameters as JSON string\n",
    "   int    count;         // Number of images reprojected\n",
    "   int    failed;        // Number of reprojections that failed\n",
    "   int    nooverlap;     // number of images that do not overlap the area of interest\n",
    "};\n",
    "</pre>"
   ]
  },
  {
   "cell_type": "code",
   "execution_count": null,
   "metadata": {},
   "outputs": [],
   "source": []
  }
 ],
 "metadata": {
  "kernelspec": {
   "display_name": "Python 3",
   "language": "python",
   "name": "python3"
  },
  "language_info": {
   "codemirror_mode": {
    "name": "ipython",
    "version": 3
   },
   "file_extension": ".py",
   "mimetype": "text/x-python",
   "name": "python",
   "nbconvert_exporter": "python",
   "pygments_lexer": "ipython3",
   "version": "3.6.5"
  }
 },
 "nbformat": 4,
 "nbformat_minor": 2
}
