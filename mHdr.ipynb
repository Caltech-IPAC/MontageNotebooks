{
 "cells": [
  {
   "cell_type": "markdown",
   "metadata": {},
   "source": [
    "<font style=\"font-size:96px; font-weight:bolder; color:#0040a0\"><img src=\"http://montage.ipac.caltech.edu/docs/M51_logo.png\" alt=\"M\" style=\"float: left; padding: 25px 30px 25px 0px;\" /></font>\n",
    "\n",
    "<i><b>Montage</b> is a general astronomical image toolkit with facilities for reprojection, background matching, coaddition and visualization.  It can be used as a set of command-line tools (Linux, OS X and Windows), C library calls (Linux and OS X) and as Python binary extension modules.</i>\n",
    "    \n",
    "<i>Montage source code can be downloaded from GitHub ( https://github.com/Caltech-IPAC/Montage ).  The Python package can be installed from PyPI (\"pip install MontagePy\"). See\n",
    "http://montage.ipac.caltech.edu/ for more information.</i>"
   ]
  },
  {
   "cell_type": "markdown",
   "metadata": {},
   "source": [
    "# MontagePy.main modules: mHdr\n",
    "\n",
    "A large percentage of the Montage modules focus on processing a set of images (often retrieved from a mission archive); projecting them to a common frame, adjusting their background levels as a set, and coadding them into a mosaic.\n",
    "\n",
    "This page is focused on the details of one of these modules: mHdr.  For a broader context, please see <a href=\"Mosaic.ipynb\">Building a Mosaic with Montage</a> or the <a href=\"Mosaic_oneshot.ipynb\"> one shot </a> version if you just want to see the commands.\n",
    "\n",
    "<b>Note:</b> The MontagePy python package has no external dependencies. We include packages like AstroPy on this page to aid in visualizing MontagePy package results.\n"
   ]
  },
  {
   "cell_type": "code",
   "execution_count": 1,
   "metadata": {
    "scrolled": true
   },
   "outputs": [
    {
     "name": "stdout",
     "output_type": "stream",
     "text": [
      "Help on built-in function mHdr in module MontagePy.main:\n",
      "\n",
      "mHdr(...)\n",
      "    mHdr creates a header template file from location, size, resolution and rotation inputs. In order to support object name lookup for the location string argument, this service must have a network connection available.\n",
      "    \n",
      "    Parameters\n",
      "    ----------\n",
      "    locstr : str\n",
      "        A (quoted if necessary) string containing a coordinate or the name of an object on the sky.\n",
      "    width : float\n",
      "        Image width in degrees.\n",
      "    height : float\n",
      "        Image height in degrees.\n",
      "    outfile : str\n",
      "        Output FITS header file.\n",
      "    csys : str, optional\n",
      "        Coordinate system string (e.g. 'EquJ', 'Galactic', etc. Fairly forgiving.\n",
      "    equinox : float, optional\n",
      "        Coordinate system equinox (e.g. 2000.0).\n",
      "    resolution : float, optional\n",
      "        Image pixel resolution (in arcsec).\n",
      "    rotation : float, optional\n",
      "        Image rotation on the sky.\n",
      "    band2MASS : str, optional\n",
      "        Optional argument when mosaicking 2MASS, adds proper MAGZP value.\n",
      "    debug : int, optional\n",
      "        Debugging output level.\n",
      "    \n",
      "    \n",
      "    Returns\n",
      "    -------\n",
      "    status : int\n",
      "        Return status (0: OK, 1:ERROR).\n",
      "    msg : str\n",
      "        Return message (for errors).\n",
      "    count : int\n",
      "        Number of lines in output file.\n",
      "\n"
     ]
    }
   ],
   "source": [
    "from MontagePy.main import mHdr, mViewer\n",
    "\n",
    "help(mHdr)"
   ]
  },
  {
   "cell_type": "markdown",
   "metadata": {},
   "source": [
    "## mHdr Example:\n",
    "\n",
    "Much of the Montage processing keys off a FITS header template.  Sometimes these headers are extracted from a reference file (mGetHdr).  Sometimes they are generated as a bounding box around a catalog of sources or other images (mMakeHdr) and sometimes there are just created manually with an editor.\n",
    "\n",
    "mHdr can be used to build a simple (TAN projection) header given a location (coordinates or object name) and size.\n",
    "\n",
    "To use mHdr with object names you must have a working network connection.  Name resolution is done via a remote service.  Width and height are in degrees and there are overrides for pixel scale (1 arcsecond by default), coordinate system (Equatorial J2000 by default) and rotation."
   ]
  },
  {
   "cell_type": "code",
   "execution_count": 2,
   "metadata": {},
   "outputs": [
    {
     "name": "stdout",
     "output_type": "stream",
     "text": [
      "{'status': '0', 'count': 16}\n"
     ]
    }
   ],
   "source": [
    "import os\n",
    "\n",
    "try:\n",
    "    os.mkdirs('work/M17')\n",
    "except:\n",
    "    pass\n",
    "\n",
    "rtn = mHdr(\"M17\", 1.0, 1.0, 'work/M17/M17.hdr')\n",
    "\n",
    "print(rtn)"
   ]
  },
  {
   "cell_type": "markdown",
   "metadata": {},
   "source": [
    "The output header looks like this:"
   ]
  },
  {
   "cell_type": "code",
   "execution_count": 3,
   "metadata": {},
   "outputs": [
    {
     "name": "stdout",
     "output_type": "stream",
     "text": [
      "SIMPLE  = T\n",
      "BITPIX  = -64\n",
      "NAXIS   = 2\n",
      "NAXIS1  = 3601\n",
      "NAXIS2  = 3600\n",
      "CTYPE1  = 'RA---TAN'\n",
      "CTYPE2  = 'DEC--TAN'\n",
      "CRVAL1  =  275.196290\n",
      "CRVAL2  =  -16.171530\n",
      "CRPIX1  = 1801.000000\n",
      "CRPIX2  = 1800.500000\n",
      "CDELT1  =   -0.000277778\n",
      "CDELT2  =    0.000277778\n",
      "CROTA2  =    0.000000\n",
      "EQUINOX = 2000.0\n",
      "END\n"
     ]
    }
   ],
   "source": [
    "with open(\"work/M17/M17.hdr\", \"r\") as file:\n",
    "  for line in file:\n",
    "    print(line, end='')"
   ]
  },
  {
   "cell_type": "markdown",
   "metadata": {},
   "source": [
    "## mHdr Error Handling\n",
    "\n",
    "If mHdr encounters an error, the return structure will just have two elements: a status of 1 (\"error\") and a message string that tries to diagnose the reason for the error.\n",
    "\n",
    "For instance, if the user asks for an unsupported dataset:"
   ]
  },
  {
   "cell_type": "code",
   "execution_count": 4,
   "metadata": {},
   "outputs": [
    {
     "name": "stdout",
     "output_type": "stream",
     "text": [
      "{'status': '1', 'msg': b'Invalid object/coordinates'}\n"
     ]
    }
   ],
   "source": [
    "rtn = mHdr(\"dummy object\", 1., 1., \"output/bad.hdr\")\n",
    "\n",
    "print(rtn)"
   ]
  },
  {
   "cell_type": "markdown",
   "metadata": {},
   "source": [
    "&nbsp;\n",
    "\n",
    "## Classic Montage: mHdr as a Stand-Alone Program\n",
    "\n",
    "### mHdr Unix/Windows Command-line Arguments\n",
    "\n",
    "<p>mHdr can also be run as a command-line tool in Linux, OS X, and Windows:</p>\n",
    "\n",
    "<p><tt>\n",
    "<b>Usage:</b> mHdr [-c system] [-e equinox] [-h height(deg)] [-p pixsize(arcsec)] [-r rotation] [-t 2mass-band] object|location width(deg) outfile (object/location must be a single argument string)\n",
    "</tt></p>\n",
    "<p>&nbsp;</p>\n",
    "<p>If you are writing in C/C++, mHdr can be accessed as a library function:</p>\n"
   ]
  },
  {
   "cell_type": "markdown",
   "metadata": {},
   "source": [
    "<pre>\n",
    "/*-***********************************************************************/\n",
    "/*                                                                       */\n",
    "/* mHdr -- Create a header template file from location, size, resolution */\n",
    "/* and rotation inputs. In order to support object name lookup for the   */\n",
    "/* location string argument, this service must have a network connection */\n",
    "/* available.                                                            */\n",
    "/*                                                                       */\n",
    "/*   char  *locstr         A (quoted if necessary) string containing     */\n",
    "/*                         a coordinate or the name of an object on      */\n",
    "/*                         the sky                                       */\n",
    "/*                                                                       */\n",
    "/*   double width          Image width in degrees                        */\n",
    "/*   double height         Image height in degrees                       */\n",
    "/*                                                                       */\n",
    "/*   char  *outfile        Output FITS header file                       */\n",
    "/*                                                                       */\n",
    "/*   char  *csys           Coordinate system string (e.g. 'EquJ',        */\n",
    "/*                         'Galactic', etc. Fairly forgiving.            */\n",
    "/*                                                                       */\n",
    "/*   double equinox        Coordinate system equinox (e.g. 2000.0)       */\n",
    "/*   double resolution     Image pixel resolution (in arcsec)            */\n",
    "/*   double rotation       Image rotation on the sky                     */\n",
    "/*                                                                       */\n",
    "/*   char  *band2MASS      Optional argument when mosaicking 2MASS, adds */\n",
    "/*                         proper MAGZP value                            */\n",
    "/*                                                                       */\n",
    "/*   int    debug          Debugging output level                        */\n",
    "/*                                                                       */\n",
    "/*************************************************************************/\n",
    "\n",
    "struct mHdrReturn *mHdr(char *locstr, double width, double height, char *outfile, char *csys, double equinox, \n",
    "                        double resolution, double rotation, char *band2MASS, int debug)\n",
    "</pre>\n",
    "<p><b>Return Structure</b></p>\n",
    "<pre>\n",
    "struct mHdrReturn\n",
    "{\n",
    "   int    status;        // Return status (0: OK, 1:ERROR)\n",
    "   char   msg [1024];    // Return message (for error return)\n",
    "   char   json[4096];    // Return parameters as JSON string\n",
    "   int    count;         // Number of lines in output file.\n",
    "};\n",
    "</pre>"
   ]
  },
  {
   "cell_type": "code",
   "execution_count": null,
   "metadata": {},
   "outputs": [],
   "source": []
  }
 ],
 "metadata": {
  "kernelspec": {
   "display_name": "Python 3",
   "language": "python",
   "name": "python3"
  },
  "language_info": {
   "codemirror_mode": {
    "name": "ipython",
    "version": 3
   },
   "file_extension": ".py",
   "mimetype": "text/x-python",
   "name": "python",
   "nbconvert_exporter": "python",
   "pygments_lexer": "ipython3",
   "version": "3.6.5"
  }
 },
 "nbformat": 4,
 "nbformat_minor": 2
}
