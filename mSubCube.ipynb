{
 "cells": [
  {
   "cell_type": "markdown",
   "metadata": {},
   "source": [
    "<font style=\"font-size:96px; font-weight:bolder; color:#0040a0\"><img src=\"http://montage.ipac.caltech.edu/docs/M51_logo.png\" alt=\"M\" style=\"float: left; padding: 25px 30px 25px 0px;\" /></font>\n",
    "\n",
    "<i><b>Montage</b> is a general astronomical image toolkit with facilities for reprojection, background matching, coaddition and visualization.  It can be used as a set of command-line tools (Linux, OS X and Windows), C library calls (Linux and OS X) and as Python binary extension modules.</i>\n",
    "    \n",
    "<i>Montage source code can be downloaded from GitHub ( https://github.com/Caltech-IPAC/Montage ).  The Python package can be installed from PyPI (\"pip install MontagePy\"). See\n",
    "http://montage.ipac.caltech.edu/ for more information.</i>"
   ]
  },
  {
   "cell_type": "markdown",
   "metadata": {},
   "source": [
    "# MontagePy.main modules: mSubCube\n",
    "\n",
    "Most of Montage is focused on 2D astronomical image mosaics: reprojection, background matching, coaddition and so on.  But there is also a need for tools that operate on data \"cubes\": three- or four-dimensional arrays where two of the axes represent the same projected sky coordinates as we find in the 2D images.  Usually, the third axis is some form of wavelength.\n",
    "\n",
    "The problem sets are not completely parallel: datacubes do not generally need background matching but you do frequently want cutouts in the none spatial dimensions and to transpose axes.\n",
    "\n",
    "Montage includes a set of routines for manipulating datacubes:\n",
    "\n",
    "<ul>\n",
    "<li><b>mmProjectCube</b> &mdash; Reproject the spatial dimensions.</li>\n",
    "<li><b>mAddCube</b> &mdash; Reproject the cube.</li>\n",
    "<li><b>mShrinkCube</b> &mdash; Rescale a cube (integer scaling in the non-spatial dimensions).</li>\n",
    "<li><b>mSubCube</b> &mdash;Cut a portion out of a cube.</li>\n",
    "<li><b>mTranspose</b> &mdash; Transpose a cube's axes.</li>\n",
    "</ul>\n",
    "\n",
    "This routine, mSubCube, cuts a multi-dimensional box out of a cube.  In the spatial dimensions this is exactly the same as mSubimage: a sky location and size or pixel ranges.  In the third (and fourth) dimensions it is just index ranges (or an index value list).\n",
    " \n",
    " <b>Note:</b> The MontagePy python package has no external dependencies. We include other utilities on this page to aid in visualizing MontagePy package results.\n"
   ]
  },
  {
   "cell_type": "code",
   "execution_count": 1,
   "metadata": {
    "scrolled": true
   },
   "outputs": [
    {
     "name": "stdout",
     "output_type": "stream",
     "text": [
      "Help on built-in function mSubCube in module MontagePy.main:\n",
      "\n",
      "mSubCube(...)\n",
      "    mSubCube extracts a sub-cube from one FITS file into a new FITS file.\n",
      "    \n",
      "    Parameters\n",
      "    ----------\n",
      "    mode : int\n",
      "        Processing mode. The two main modes are 0 (SKY) and 1 (PIX), corresponding to cutouts are in sky coordinate or pixel space. The two other modes are 3 (HDU) and 4 (SHRINK), where the region parameters are ignored and you get back either a single HDU or an image that has had all the blank border pixels removed.\n",
      "    infile : str\n",
      "        Input FITS file.\n",
      "    outfile : str\n",
      "        Sub-cube output FITS file.\n",
      "    ra : float\n",
      "        RA of cutout center (or start X pixel in PIX mode.\n",
      "    dec : float\n",
      "        Dec of cutout center (or start X pixel in PIX mode.\n",
      "    xsize : float\n",
      "        X size in degrees (SKY mode) or pixels (PIX mode).\n",
      "    ysize : float\n",
      "        Y size in degrees (SKY mode) or pixels (PIX mode).\n",
      "    hdu : int, optional\n",
      "        Optional HDU offset for input file.\n",
      "    nowcs : bool, optional\n",
      "        Indicates that the image has no WCS info (only makes sense in PIX mode).\n",
      "    d3constraint : str, optional\n",
      "        Constraint string (list of index values and index ranges) for third cube dimension.\n",
      "    d4constraint : str, optional\n",
      "        Constraint string (list of index values and index ranges) for fourth cube dimension.\n",
      "    debug : int, optional\n",
      "        Debugging output level.\n",
      "    \n",
      "    \n",
      "    Returns\n",
      "    -------\n",
      "    status : int\n",
      "        Return status (0: OK, 1:ERROR).\n",
      "    msg : str\n",
      "        Return message (for errors).\n",
      "    content : str\n",
      "        String giving an idea of output content (e.e., 'blank', 'flat', or 'normal'.\n",
      "    warning : str\n",
      "        If warranted, warning message about CDELT, CRPIX, etc.\n",
      "\n"
     ]
    }
   ],
   "source": [
    "from MontagePy.main import mSubCube, mViewer\n",
    "\n",
    "help(mSubCube)"
   ]
  },
  {
   "cell_type": "markdown",
   "metadata": {},
   "source": [
    "## mSubCube Example\n",
    "\n",
    "In this example, we will cut a region, in both space and wavelength from one of the inputs to our GALFA mosaic.\n",
    "\n",
    "The data used in the datacube Jupyter pages come from the Galactic Arecibo L-band Feed Array HI (GALFA-HI) survey (Peek et al., 2011, Ap J Suppl, 194, 20; DOI 10.1088/0067-0049/194/2/20; ADS Bibcode 2011ApJS..194...20P)."
   ]
  },
  {
   "cell_type": "code",
   "execution_count": 12,
   "metadata": {},
   "outputs": [
    {
     "name": "stdout",
     "output_type": "stream",
     "text": [
      "{'status': '0', 'content': b'normal', 'warning': b'Check CDELT, CRPIX values for axes 3 and 4.'}\n"
     ]
    }
   ],
   "source": [
    "rtn = mSubCube(0, \"GALFA/shrunken/GALFA_HI_RA+DEC_012.00+10.35_N.fits\",\n",
    "              \"work/GALFA/GALFAsubcube.fits\",\n",
    "              12., 10., 5., 5.)\n",
    "print(rtn)"
   ]
  },
  {
   "cell_type": "markdown",
   "metadata": {},
   "source": [
    "## Before and After\n",
    "\n",
    "Here are the original image and the cutout. Since these are cubes, we have to collapse it in the third dimension for display. \n"
   ]
  },
  {
   "cell_type": "code",
   "execution_count": 19,
   "metadata": {},
   "outputs": [
    {
     "data": {
      "text/html": [
       "<table><tr><td><img src='work/GALFA/GALFA_HI_RA+DEC_012.00+10.35_N_subcube.png'></td>                          <td><img src='work/GALFA/GALFAsubcube.png'></td></tr></table>"
      ],
      "text/plain": [
       "<IPython.core.display.HTML object>"
      ]
     },
     "metadata": {},
     "output_type": "display_data"
    }
   ],
   "source": [
    "from IPython.display import HTML, display, Image\n",
    "\n",
    "rtn = mViewer('-color yellow -grid eq j2000 \\\n",
    "               -ct 4 -gray \"GALFA/shrunken/GALFA_HI_RA+DEC_012.00+10.35_N.fits[0][60,68]\" \\\n",
    "               -2s max gaussian-log -out work/GALFA/GALFA_HI_RA+DEC_012.00+10.35_N_subcube.png', \n",
    "              '', mode=2 )\n",
    "\n",
    "rtn = mViewer('-color yellow -grid eq j2000 \\\n",
    "               -ct 4 -gray \"work/GALFA/GALFAsubcube.fits[0][60,68]\" \\\n",
    "               -2s max gaussian-log -out work/GALFA/GALFAsubcube.png', \n",
    "              '', mode=2 )\n",
    "\n",
    "display(HTML(\"<table><tr><td><img src='work/GALFA/GALFA_HI_RA+DEC_012.00+10.35_N_subcube.png'></td> \\\n",
    "                         <td><img src='work/GALFA/GALFAsubcube.png'></td></tr></table>\"))"
   ]
  },
  {
   "cell_type": "markdown",
   "metadata": {},
   "source": [
    "&nbsp;<p/>\n",
    "\n",
    "## mSubCube Error Handling\n",
    "\n",
    "If mSubCube encounters an error, the return structure will just have two elements: a status of 1 (\"error\") and a message string that tries to diagnose the reason for the error.\n",
    "\n",
    "For instance, if the user specifies a datacube that doesn't exist: "
   ]
  },
  {
   "cell_type": "code",
   "execution_count": 20,
   "metadata": {},
   "outputs": [
    {
     "name": "stdout",
     "output_type": "stream",
     "text": [
      "{'status': '1', 'msg': b'File GALFA/shrunken/unknown.fits not found.'}\n"
     ]
    }
   ],
   "source": [
    "rtn = mSubCube(0, \"GALFA/shrunken/unknown.fits\",\n",
    "              \"work/GALFA/GALFAsubcube.fits\",\n",
    "              12., 10., 5., 5.)\n",
    "print(rtn)"
   ]
  },
  {
   "cell_type": "markdown",
   "metadata": {},
   "source": [
    "&nbsp;\n",
    "\n",
    "\n",
    "\n",
    "# Classic Montage: mSubCube as a Stand-Alone Program\n",
    "\n",
    "\n",
    "### mSubCube Unix/Windows Command-line Arguments\n",
    "\n",
    "<p>mSubCube can also be run as a command-line tool in Linux, OS X, and Windows:</p>\n",
    "\n",
    "<p><tt>\n",
    "<b>Usage:</b> mSubCube [-D3 selection-list][-D4 selection-list][-d][-a(ll pixels)][-h hdu][-s statusfile] in.fit out.fit ra dec xsize [ysize] | mSubCube -p [-D3 selection-list][-D4 selection-list][-d][-h hdu][-s statusfile] in.fit out.fit xstartpix ystartpix xpixsize [ypixsize] | mSubCube -c [-D3 selection-list][-D4 selection-list][-d][-h hdu][-s statusfile] in.fit out.fit\n",
    "</tt></p>\n",
    "<p>&nbsp;</p>\n",
    "<p>If you are writing in C/C++, mSubCube can be accessed as a library function:</p>\n"
   ]
  },
  {
   "cell_type": "code",
   "execution_count": null,
   "metadata": {},
   "outputs": [],
   "source": []
  },
  {
   "cell_type": "markdown",
   "metadata": {},
   "source": [
    "<pre>\n",
    "/*-***********************************************************************/\n",
    "/*                                                                       */\n",
    "/*  mSubimage                                                            */\n",
    "/*                                                                       */\n",
    "/*  This program subsets an input image around a location of interest    */\n",
    "/*  and creates a new output image consisting of just those pixels.      */\n",
    "/*  The location is defined by the RA,Dec (J2000) of the new center and  */\n",
    "/*  the XY size in degrees of the area (X and Y) in the direction of     */\n",
    "/*  the image axes, not Equatorial coordinates.                          */\n",
    "/*                                                                       */\n",
    "/*   int    mode           Processing mode. The two main modes are       */\n",
    "/*                         0 (SKY) and 1 (PIX), corresponding to cutouts */\n",
    "/*                         are in sky coordinate or pixel space. The two */\n",
    "/*                         other modes are 3 (HDU) and 4 (SHRINK), where */\n",
    "/*                         the region parameters are ignored and you get */\n",
    "/*                         back either a single HDU or an image that has */\n",
    "/*                         had all the blank border pixels removed.      */\n",
    "/*                                                                       */\n",
    "/*   char  *infile         Input FITS file                               */\n",
    "/*   char  *outfile        Subimage output FITS file                     */\n",
    "/*                                                                       */\n",
    "/*   double ra             RA of cutout center (or start X pixel in      */\n",
    "/*                         PIX mode                                      */\n",
    "/*   double dec            Dec of cutout center (or start Y pixel in     */\n",
    "/*                         PIX mode                                      */\n",
    "/*                                                                       */\n",
    "/*   double xsize          X size in degrees (SKY mode) or pixels        */\n",
    "/*                         (PIX mode)                                    */\n",
    "/*   double ysize          Y size in degrees (SKY mode) or pixels        */\n",
    "/*                         (PIX mode)                                    */\n",
    "/*                                                                       */\n",
    "/*   int    hdu            Optional HDU offset for input file            */\n",
    "/*   int    nowcs          Indicates that the image has no WCS info      */\n",
    "/*                         (only makes sense in PIX mode)                */\n",
    "/*                                                                       */\n",
    "/*   char  *d3constraint   String describing the datacube third          */\n",
    "/*                         dimension selection constraints               */\n",
    "/*                                                                       */\n",
    "/*   char  *d4constraint   String describing the datacube fourth         */\n",
    "/*                         dimension selection constraints               */\n",
    "/*                                                                       */\n",
    "/*   int    debug          Debugging output level                        */\n",
    "/*                                                                       */\n",
    "/*************************************************************************/\n",
    "\n",
    "struct mSubCubeReturn *mSubCube(int mode, char *infile, char *outfile, double ra, double dec,\n",
    "                                double xsize, double ysize, int hdu, int nowcs, char *d3constraint, \n",
    "                                char *d4constraint, int debugin)\n",
    "</pre>\n",
    "<p><b>Return Structure</b></p>\n",
    "<pre>\n",
    "struct mSubCubeReturn\n",
    "{\n",
    "   int    status;        // Return status (0: OK, 1:ERROR)\n",
    "   char   msg    [1024]; // Return message (for error return)\n",
    "   char   json   [4096]; // Return parameters as JSON string\n",
    "   char   content[1024]; // String giving an idea of output content (e.g., 'blank', 'flat', or 'normal'.   \n",
    "   char   warning[1024]; // If warranted, warning message about CDELT, CRPIX, etc.   \n",
    "};\n",
    "</pre>"
   ]
  }
 ],
 "metadata": {
  "kernelspec": {
   "display_name": "Python 3",
   "language": "python",
   "name": "python3"
  },
  "language_info": {
   "codemirror_mode": {
    "name": "ipython",
    "version": 3
   },
   "file_extension": ".py",
   "mimetype": "text/x-python",
   "name": "python",
   "nbconvert_exporter": "python",
   "pygments_lexer": "ipython3",
   "version": "3.6.5"
  }
 },
 "nbformat": 4,
 "nbformat_minor": 2
}
