{
 "cells": [
  {
   "cell_type": "markdown",
   "metadata": {},
   "source": [
    "<font style=\"font-size:96px; font-weight:bolder; color:#0040a0\"><img src=\"http://montage.ipac.caltech.edu/docs/M51_logo.png\" alt=\"M\" style=\"float: left; padding: 25px 30px 25px 0px;\" /></font>\n",
    "\n",
    "<i><b>Montage</b> is a general astronomical image toolkit with facilities for reprojection, background matching, coaddition and visualization.  It can be used as a set of command-line tools (Linux, OS X and Windows), C library calls (Linux and OS X) and as Python binary extension modules.</i>\n",
    "    \n",
    "<i>Montage source code can be downloaded from GitHub ( https://github.com/Caltech-IPAC/Montage ).  The Python package can be installed from PyPI (\"pip install MontagePy\"). See\n",
    "http://montage.ipac.caltech.edu/ for more information.</i>"
   ]
  },
  {
   "cell_type": "markdown",
   "metadata": {},
   "source": [
    "# MontagePy.main modules: mFitplane\n",
    "\n",
    "A large percentage of the Montage modules focus on processing a set of images (often retrieved from a mission archive); projecting them to a common frame, adjusting their background levels as a set, and coadding them into a mosaic.\n",
    "\n",
    "This page is focused on the details of one of these modules: mFitplane.  For a broader context, please see <a href=\"Mosaic.ipynb\">Building a Mosaic with Montage</a> or the <a href=\"Mosaic_oneshot.ipynb\"> one shot </a> version if you just want to see the commands.\n",
    "\n",
    "<b>Note:</b> The MontagePy python package has no external dependencies. We include other utilities on this page to aid in visualizing MontagePy package results.\n"
   ]
  },
  {
   "cell_type": "code",
   "execution_count": 1,
   "metadata": {
    "scrolled": true
   },
   "outputs": [
    {
     "name": "stdout",
     "output_type": "stream",
     "text": [
      "Help on built-in function mFitplane in module MontagePy.main:\n",
      "\n",
      "mFitplane(...)\n",
      "    mFitplane uses least squares to fit a plane (excluding outlier pixels) to an image.\n",
      "    \n",
      "    Parameters\n",
      "    ----------\n",
      "    input_file : str\n",
      "        FITS file for plane fitting.\n",
      "    levelOnly : bool, optional\n",
      "        Only fit for level difference not a full plane with slopes.\n",
      "    border : int, optional\n",
      "        Exclude a pixel border from the fitting.\n",
      "    debug : int, optional\n",
      "        Debugging output level.\n",
      "    \n",
      "    \n",
      "    Returns\n",
      "    -------\n",
      "    status : int\n",
      "        Return status (0: OK, 1:ERROR).\n",
      "    msg : str\n",
      "        Return message (for errors).\n",
      "    a : float\n",
      "        Plane fit coefficient for X axis.\n",
      "    b : float\n",
      "        Plane fit coefficient for Y axis.\n",
      "    c : float\n",
      "        Plane fit constant offset.\n",
      "    crpix1 : float\n",
      "        X-axis pixel coordinate for center of region.\n",
      "    crpix2 : float\n",
      "        Y-axis pixel coordinate for center of region.\n",
      "    xmin : float\n",
      "        Minimum X-axis value.\n",
      "    xmax : float\n",
      "        Maximum X-axis value.\n",
      "    ymin : float\n",
      "        Minimum Y-axis value.\n",
      "    ymax : float\n",
      "        Maximum Y-axis value.\n",
      "    xcenter : float\n",
      "        Center X location.\n",
      "    ycenter : float\n",
      "        Center Y location.\n",
      "    npixel : int\n",
      "        Total number of pixels fit.\n",
      "    rms : float\n",
      "        RMS of fit (pixels with large offset values were excluded in fit).\n",
      "    boxx : float\n",
      "        Rectanguar bounding box X center.\n",
      "    boxy : float\n",
      "        Rectanguar bounding box Y center.\n",
      "    boxwidth : float\n",
      "        Rectanguar bounding box width.\n",
      "    boxheight : float\n",
      "        Rectanguar bounding box height.\n",
      "    boxang : float\n",
      "        Rectanguar bounding box rotation angle.\n",
      "\n"
     ]
    }
   ],
   "source": [
    "from MontagePy.main import mFitplane, mBackground, mViewer\n",
    "\n",
    "help(mFitplane)"
   ]
  },
  {
   "cell_type": "markdown",
   "metadata": {},
   "source": [
    "## mFitplane Example:\n",
    "\n",
    "mFitplane least-squares fits a plane to an image.  It iterates a little to exclude the larger excursions (<i>i.e.</i>, bright stars, dropouts).  The results (a plane) can be used either directly to subtract a background from an image or, with fits to a set of difference images, to model a global set of background corrections to minimize differences."
   ]
  },
  {
   "cell_type": "code",
   "execution_count": 2,
   "metadata": {},
   "outputs": [
    {
     "name": "stdout",
     "output_type": "stream",
     "text": [
      "{'status': '0', 'a': -0.00016525931270827687, 'b': 0.002731437131331532, 'c': 152.3555451225345, 'crpix1': 256.5, 'crpix2': 512.5, 'xmin': -251.5, 'xmax': 251.5, 'ymin': -512.5, 'ymax': 510.5, 'xcenter': -32.900088275277625, 'ycenter': -47.52564926466694, 'npixel': 282936, 'rms': 1.5194888436909284, 'boxx': 0.0, 'boxy': -1.0, 'boxwidth': 1023.0, 'boxheight': 503.0, 'boxang': 90.0}\n"
     ]
    }
   ],
   "source": [
    "rtn = mFitplane('M17/raw/2mass-atlas-990502s-j1430080.fits')\n",
    "\n",
    "print(rtn)"
   ]
  },
  {
   "cell_type": "markdown",
   "metadata": {},
   "source": [
    "There is no side effect; all of the output is in the above return structure."
   ]
  },
  {
   "cell_type": "code",
   "execution_count": 13,
   "metadata": {},
   "outputs": [
    {
     "data": {
      "text/html": [
       "<table><tr><td><img src='work/M17/2mass-atlas-990502s-j1430080.png'></td>                          <td><img src='work/M17/2mass-atlas-990502s-j1430080_fitplane.png'></td></tr></table>"
      ],
      "text/plain": [
       "<IPython.core.display.HTML object>"
      ]
     },
     "metadata": {},
     "output_type": "display_data"
    }
   ],
   "source": [
    "import os\n",
    "from IPython.display import HTML, display\n",
    "\n",
    "try:\n",
    "    os.mkdirs('work/M17')\n",
    "except:\n",
    "    pass\n",
    "\n",
    "mBackground('M17/raw/2mass-atlas-990502s-j1430080.fits', \n",
    "            'work/M17/2mass-atlas-990502s-j1430080_fitplane.fits', \n",
    "            -0.00016525931270827687, \n",
    "            0.002731437131331532,  \n",
    "            152.3555451225345,\n",
    "            noAreas=True)\n",
    "\n",
    "mViewer('-ct 1 -gray M17/raw/2mass-atlas-990502s-j1430080.fits \\\n",
    "         min max gaussian-log -out work/M17/2mass-atlas-990502s-j1430080.png',\n",
    "        '', mode=2) \n",
    "\n",
    "rtn = mViewer('-ct 1 -gray work/M17/2mass-atlas-990502s-j1430080_fitplane.fits \\\n",
    "         min max gaussian-log -out work/M17/2mass-atlas-990502s-j1430080_fitplane.png',\n",
    "        '', mode=2)\n",
    "\n",
    "display(HTML(\"<table><tr><td><img src='work/M17/2mass-atlas-990502s-j1430080.png'></td> \\\n",
    "                         <td><img src='work/M17/2mass-atlas-990502s-j1430080_fitplane.png'></td></tr></table>\"))"
   ]
  },
  {
   "cell_type": "markdown",
   "metadata": {},
   "source": [
    "The difference is subtle, as is not surprising.  The image on the left is somewhat darker at the top than it is at the bottom whereas the one on the right is more uniform in its background from top to bottom.\n",
    "\n",
    "&nbsp;<p/>\n",
    "\n",
    "## mFitplane Error Handling\n",
    "\n",
    "If mFitplane encounters an error, the return structure will just have two elements: a status of 1 (\"error\") and a message string that tries to diagnose the reason for the error.\n",
    "\n",
    "For instance, if the user specifies an image that doesn't exist: \n"
   ]
  },
  {
   "cell_type": "code",
   "execution_count": 12,
   "metadata": {},
   "outputs": [
    {
     "name": "stdout",
     "output_type": "stream",
     "text": [
      "{'status': '1', 'msg': b'Image file M17/raw/unknown.fits missing or invalid FITS\"]\\n'}\n"
     ]
    }
   ],
   "source": [
    "rtn = mFitplane('M17/raw/unknown.fits')\n",
    "\n",
    "print(rtn)"
   ]
  },
  {
   "cell_type": "markdown",
   "metadata": {},
   "source": [
    "&nbsp;\n",
    "\n",
    "## Classic Montage: mFitplane as a Stand-Alone Program\n",
    "\n",
    "### mFitplane Unix/Windows Command-line Arguments\n",
    "\n",
    "<p>mFitplane can also be run as a command-line tool in Linux, OS X, and Windows:</p>\n",
    "\n",
    "<p><tt>\n",
    "<b>Usage:</b> mFitplane [-b border] [-d level] [-s statusfile] [-l(evel-only)] in.fits\n",
    "</tt></p>\n",
    "<p>&nbsp;</p>\n",
    "<p>If you are writing in C/C++, mFitplane can be accessed as a library function:</p>\n"
   ]
  },
  {
   "cell_type": "markdown",
   "metadata": {},
   "source": [
    "<pre>\n",
    "/*-***********************************************************************/\n",
    "/*                                                                       */\n",
    "/*  mFitplane                                                            */\n",
    "/*                                                                       */\n",
    "/*  Montage is a set of general reprojection / coordinate-transform /    */\n",
    "/*  mosaicking programs.  Any number of input images can be merged into  */\n",
    "/*  an output FITS file.  The attributes of the input are read from the  */\n",
    "/*  input files; the attributes of the output are read a combination of  */\n",
    "/*  the command line and a FITS header template file.                    */\n",
    "/*                                                                       */\n",
    "/*  This module, mFitplane, is used in conjuction with mDiff and         */\n",
    "/*  mBgModel to determine how overlapping images relate to each          */\n",
    "/*  other.  It is assumed that difference images have matching structure */\n",
    "/*  information and that what is left when you difference them is just   */\n",
    "/*  the relative offsets, slopes, etc.  By fitting the difference image, */\n",
    "/*  we obtain the 'correction' that needs to be applied to one or the    */\n",
    "/*  other (or in part to both) to bring them together.                   */\n",
    "/*                                                                       */\n",
    "/*   char  *input_file     FITS file for plane fitting                   */\n",
    "/*   int    levelOnly      Only fit for level difference not a full      */\n",
    "/*                         plane with slopes                             */\n",
    "/*   int    border         Exclude a pixel border from the fitting       */\n",
    "/*   int    debug          Debugging output level                        */\n",
    "/*                                                                       */\n",
    "/*************************************************************************/\n",
    "\n",
    "struct mFitplaneReturn *mFitplane(char *input_file, int levelOnly, int border, int debug)\n",
    "</pre>\n",
    "<p><b>Return Structure</b></p>\n",
    "<pre>\n",
    "struct mFitplaneReturn\n",
    "{\n",
    "   int    status;        // Return status (0: OK, 1:ERROR)\n",
    "   char   msg [1024];    // Return message (for error return)\n",
    "   char   json[4096];    // Return parameters as JSON string\n",
    "   double a;             // Plane fit coefficient for X axis.\n",
    "   double b;             // Plane fit coefficient for Y axis.\n",
    "   double c;             // Plane fit constant offset.\n",
    "   double crpix1;        // X-axis pixel coordinate for center of region.\n",
    "   double crpix2;        // Y-axis pixel coordinate for center of region.\n",
    "   double xmin;          // Minimum X-axis value.\n",
    "   double xmax;          // Maximum X-axis value.\n",
    "   double ymin;          // Minimum Y-axis value.\n",
    "   double ymax;          // Maximum Y-axis value.\n",
    "   double xcenter;       // Center X location.\n",
    "   double ycenter;       // Center Y location.\n",
    "   int    npixel;        // Total number of pixels fit.\n",
    "   double rms;           // RMS of fit (pixels with large offset values were excluded in fit).\n",
    "   double boxx;          // Rectanguar bounding box X center.\n",
    "   double boxy;          // Rectanguar bounding box Y center.\n",
    "   double boxwidth;      // Rectanguar bounding box width.\n",
    "   double boxheight;     // Rectanguar bounding box height.\n",
    "   double boxang;        // Rectanguar bounding box rotation angle.\n",
    "};\n",
    "</pre>"
   ]
  },
  {
   "cell_type": "code",
   "execution_count": null,
   "metadata": {},
   "outputs": [],
   "source": []
  }
 ],
 "metadata": {
  "kernelspec": {
   "display_name": "Python 3",
   "language": "python",
   "name": "python3"
  },
  "language_info": {
   "codemirror_mode": {
    "name": "ipython",
    "version": 3
   },
   "file_extension": ".py",
   "mimetype": "text/x-python",
   "name": "python",
   "nbconvert_exporter": "python",
   "pygments_lexer": "ipython3",
   "version": "3.6.5"
  }
 },
 "nbformat": 4,
 "nbformat_minor": 2
}
