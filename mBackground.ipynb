{
 "cells": [
  {
   "cell_type": "markdown",
   "metadata": {},
   "source": [
    "<font style=\"font-size:96px; font-weight:bolder; color:#0040a0\"><img src=\"http://montage.ipac.caltech.edu/docs/M51_logo.png\" alt=\"M\" style=\"float: left; padding: 25px 30px 25px 0px;\" /></font>\n",
    "\n",
    "<i><b>Montage</b> is a general astronomical image toolkit with facilities for reprojection, background matching, coaddition and visualization.  It can be used as a set of command-line tools (Linux, OS X and Windows), C library calls (Linux and OS X) and as Python binary extension modules.</i>\n",
    "    \n",
    "<i>Montage source code can be downloaded from GitHub ( https://github.com/Caltech-IPAC/Montage ).  The Python package can be installed from PyPI (\"pip install MontagePy\"). See\n",
    "http://montage.ipac.caltech.edu/ for more information.</i>"
   ]
  },
  {
   "cell_type": "markdown",
   "metadata": {},
   "source": [
    "# MontagePy.main modules: mBackground\n",
    "\n",
    "A large percentage of the Montage modules focus on processing a set of images (often retrieved from a mission archive); projecting them to a common frame, adjusting their background levels as a set, and coadding them into a mosaic.\n",
    "\n",
    "This page is focused on the details of one of these modules: mBackground.  For a broader context, please see <a href=\"Mosaic.ipynb\">Building a Mosaic with Montage</a> or the <a href=\"Mosaic_oneshot.ipynb\"> one shot </a> version if you just want to see the commands.\n",
    "\n",
    "<b>Note:</b> The MontagePy python package has no external dependencies. We include packages like AstroPy on this page to aid in visualizing MontagePy package results.\n"
   ]
  },
  {
   "cell_type": "code",
   "execution_count": 1,
   "metadata": {
    "scrolled": true
   },
   "outputs": [
    {
     "name": "stdout",
     "output_type": "stream",
     "text": [
      "Help on built-in function mBackground in module MontagePy.main:\n",
      "\n",
      "mBackground(...)\n",
      "    mBackground subtracts a planar background from a a FITS image.\n",
      "    \n",
      "    Parameters\n",
      "    ----------\n",
      "    input_file : str\n",
      "        Input FITS file.\n",
      "    output_file : str\n",
      "        Output background-removed FITS file.\n",
      "    A : float\n",
      "        A coefficient in (A*x + B*y + C) background level equation.\n",
      "    B : float\n",
      "        B coefficient in (A*x + B*y + C) background level equation.\n",
      "    C : float\n",
      "        C level in (A*x + B*y + C) background level equation.\n",
      "    noAreas : bool, optional\n",
      "        Don't process associated area images.\n",
      "    debug : int, optional\n",
      "        Debugging output level.\n",
      "    \n",
      "    \n",
      "    Returns\n",
      "    -------\n",
      "    status : int\n",
      "        Return status (0: OK, 1:ERROR).\n",
      "    msg : str\n",
      "        Return message (for errors).\n",
      "    time : float\n",
      "        Total processing time (sec).\n",
      "\n"
     ]
    }
   ],
   "source": [
    "from MontagePy.main import mBackground, mViewer\n",
    "\n",
    "help(mBackground)"
   ]
  },
  {
   "cell_type": "markdown",
   "metadata": {},
   "source": [
    "## mBackground Example\n",
    "\n",
    "mBackground simply removes a planar background from an image.  It can be used directly but the more normal case is where it is called in conjunction with another utility like mFitplane or mBgModel to remove a background fitted to the image itself or determined as part of global background rectification.\n",
    "\n",
    "The arguments to mBackground are the input image, output image name, and three numeric coefficients defining the plane to subtract:  Ax + By + C (where x and y are the pixel coordinates of in the image):"
   ]
  },
  {
   "cell_type": "code",
   "execution_count": 2,
   "metadata": {},
   "outputs": [
    {
     "name": "stdout",
     "output_type": "stream",
     "text": [
      "{'status': '0', 'time': 0.0}\n"
     ]
    }
   ],
   "source": [
    "rtn = mBackground('M17/corrected/hdu0_2mass-atlas-990502s-j1340186.fits', \n",
    "                  'work/M17/hdu0_2mass-atlas-990502s-j1340186_background.fits', \n",
    "                  0.01, 0.02, 3.)\n",
    "print(rtn)"
   ]
  },
  {
   "cell_type": "markdown",
   "metadata": {},
   "source": [
    "## Before and After\n",
    "\n",
    "In this case, we are subtracting a plane from an image that already has a good background, so this is just for illustration.  Here is the original image.\n",
    "\n",
    "With this background subtracted off, it gets harder to find a stretch where the image looks good.  Note that the image background is darkest in the lower left and brightest in the upper right, as you would expect with this background (and the display being a negative)."
   ]
  },
  {
   "cell_type": "code",
   "execution_count": 3,
   "metadata": {},
   "outputs": [
    {
     "data": {
      "text/html": [
       "<table><tr>               <td><img src=\"work/M17/hdu0_2mass-atlas-990502s-j1340186.png\"></td>               <td><img src=\"work/M17/hdu0_2mass-atlas-990502s-j1340186_background.png\"></td></tr></table>"
      ],
      "text/plain": [
       "<IPython.core.display.HTML object>"
      ]
     },
     "metadata": {},
     "output_type": "display_data"
    }
   ],
   "source": [
    "from IPython.display import display, HTML\n",
    "\n",
    "rtn = mViewer('-ct 1 -gray input/corrected/hdu0_2mass-atlas-990502s-j1340186.fits \\\n",
    "               -2s max gaussian-log -out work/M17/hdu0_2mass-atlas-990502s-j1340186.png',\n",
    "              '', mode=2)\n",
    "\n",
    "rtn = mViewer('-ct 1 -gray work/M17/hdu0_2mass-atlas-990502s-j1340186_background.fits \\\n",
    "               -2s max gaussian-log -out work/M17/hdu0_2mass-atlas-990502s-j1340186_background.png',\n",
    "              '', mode=2)\n",
    "\n",
    "display(HTML('<table><tr> \\\n",
    "              <td><img src=\"work/M17/hdu0_2mass-atlas-990502s-j1340186.png\"></td> \\\n",
    "              <td><img src=\"work/M17/hdu0_2mass-atlas-990502s-j1340186_background.png\"></td></tr></table>'))\n"
   ]
  },
  {
   "cell_type": "markdown",
   "metadata": {},
   "source": [
    "The added background slope on the right may not look like much in its own right but it has a strong effect on our ability to find a good stretch for the image display; much of the low-level structure in the image on the left is small compared to the amount of difference we have added with the slope in the background.\n",
    "\n",
    "&nbsp;<p/>\n",
    "\n",
    "## mBackground Error Handling\n",
    "\n",
    "If mBackground encounters an error, the return structure will just have two elements: a status of 1 (\"error\") and a message string that tries to diagnose the reason for the error.\n",
    "\n",
    "For instance, if the user specifies an image that doesn't exist: "
   ]
  },
  {
   "cell_type": "code",
   "execution_count": 4,
   "metadata": {},
   "outputs": [
    {
     "name": "stdout",
     "output_type": "stream",
     "text": [
      "{'status': '1', 'msg': b'File M17/corrected/unknown.fits not found.'}\n"
     ]
    }
   ],
   "source": [
    "rtn = mBackground('M17/corrected/unknown.fits', \n",
    "                  'work/M17/hdu0_2mass-atlas-990502s-j1340186_background.fits', \n",
    "                  0.01, 0.02, 3.)\n",
    "print(rtn)"
   ]
  },
  {
   "cell_type": "markdown",
   "metadata": {},
   "source": [
    "&nbsp;\n",
    "\n",
    "\n",
    "## Classic Montage: mBackground as a Stand-Alone Program\n",
    "\n",
    "### mBackground Unix/Windows Command-line Arguments\n",
    "\n",
    "<p>mBackground can also be run as a command-line tool in Linux, OS X, and Windows:</p>\n",
    "\n",
    "<p><tt>\n",
    "<b>Usage:</b> mBackground [-d level] [-n(o-areas)] [-s statusfile] in.fits out.fits A B C | mBackground [-t(able-mode)] [-d level] [-n(o-areas)] [-s statusfile] in.fits out.fits images.tbl corrfile.tbl\n",
    "</tt></p>\n",
    "<p>&nbsp;</p>\n",
    "<p>If you are writing in C/C++, mBackground can be accessed as a library function:</p>\n"
   ]
  },
  {
   "cell_type": "markdown",
   "metadata": {},
   "source": [
    "<pre>\n",
    "/*-***********************************************************************/\n",
    "/*                                                                       */\n",
    "/*  mBackground                                                          */\n",
    "/*                                                                       */\n",
    "/*  Montage is a set of general reprojection / coordinate-transform /    */\n",
    "/*  mosaicking programs.  Any number of input images can be merged into  */\n",
    "/*  an output FITS file.  The attributes of the input are read from the  */\n",
    "/*  input files; the attributes of the output are read a combination of  */\n",
    "/*  the command line and a FITS header template file.                    */\n",
    "/*                                                                       */\n",
    "/*  This module, mBackground, removes a background plane from a single   */\n",
    "/*  projected image.                                                     */\n",
    "/*                                                                       */\n",
    "/*   char  *input_file     Input FITS file                               */\n",
    "/*   char  *output_file    Output background-removed FITS file           */\n",
    "/*                                                                       */\n",
    "/*   double A              A coefficient in (A*x + B*y + C) background   */\n",
    "/*                         level equation                                */\n",
    "/*   double B              B coefficient in (A*x + B*y + C) background   */\n",
    "/*                         level equation                                */\n",
    "/*   double C              C level in (A*x + B*y + C) background         */\n",
    "/*                         level equation                                */\n",
    "/*                                                                       */\n",
    "/*   int    noAreas        Don't process associated area images          */\n",
    "/*                                                                       */\n",
    "/*   int    debug          Debugging output level                        */\n",
    "/*                                                                       */\n",
    "/*************************************************************************/\n",
    "\n",
    "struct mBackgroundReturn *mBackground(char *input_file, char *ofile, double A, double B, double C, int noAreasin, int debug)\n",
    "</pre>\n",
    "<p><b>Return Structure</b></p>\n",
    "<pre>\n",
    "struct mBackgroundReturn\n",
    "{\n",
    "   int    status;        // Return status (0: OK, 1:ERROR)\n",
    "   char   msg [1024];    // Return message (for error return)\n",
    "   char   json[4096];    // Return parameters as JSON string\n",
    "   double time;          // Run time (sec)   \n",
    "};\n",
    "</pre>"
   ]
  }
 ],
 "metadata": {
  "kernelspec": {
   "display_name": "Python 3",
   "language": "python",
   "name": "python3"
  },
  "language_info": {
   "codemirror_mode": {
    "name": "ipython",
    "version": 3
   },
   "file_extension": ".py",
   "mimetype": "text/x-python",
   "name": "python",
   "nbconvert_exporter": "python",
   "pygments_lexer": "ipython3",
   "version": "3.6.5"
  }
 },
 "nbformat": 4,
 "nbformat_minor": 2
}
