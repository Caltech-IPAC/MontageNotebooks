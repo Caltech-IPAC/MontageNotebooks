{
 "cells": [
  {
   "cell_type": "markdown",
   "metadata": {},
   "source": [
    "<font style=\"font-size:96px; font-weight:bolder; color:#0040a0\"><img src=\"http://montage.ipac.caltech.edu/docs/M51_logo.png\" alt=\"M\" style=\"float: left; padding: 25px 30px 25px 0px;\" /></font>\n",
    "\n",
    "<i><b>Montage</b> is a general astronomical image toolkit with facilities for reprojection, background matching, mosaicking and visualization.  It can be used as a set of command-line tools (Linux, OS X and Windows), C library calls (Linux and OS X) and as Python binary extension modules.</i>\n",
    "    \n",
    "<i>Montage source code can be downloaded from GitHub ( https://github.com/Caltech-IPAC/Montage ).  The Python package can be installed from PyPI (\"pip install MontagePy\"). See\n",
    "http://montage.ipac.caltech.edu/ for more information.</i>"
   ]
  },
  {
   "cell_type": "markdown",
   "metadata": {},
   "source": [
    "# MontagePy.main modules: mArchiveExec\n",
    "\n",
    "A large percentage of the Montage modules focus on processing a set of images (often retrieved from a mission archive); projecting them to a common frame, adjusting their background levels as a set, and coadding them into a mosaic.\n",
    "\n",
    "This page is focused on the details of one of these modules: mArchiveExec.  For a broader context, please see <a href=\"Mosaic.ipynb\">Building a Mosaic with Montage</a> or the <a href=\"Mosaic_oneshot.ipynb\"> one shot </a> version if you just want to see the commands.\n",
    "\n",
    "\n",
    "## mArchiveExec Python Help\n"
   ]
  },
  {
   "cell_type": "code",
   "execution_count": 1,
   "metadata": {
    "scrolled": true
   },
   "outputs": [
    {
     "name": "stdout",
     "output_type": "stream",
     "text": [
      "Help on built-in function mArchiveExec in module MontagePy.main:\n",
      "\n",
      "mArchiveExec(...)\n",
      "    mArchiveExec loops over a list of images (with URLs), downloading them all.\n",
      "    \n",
      "    Parameters\n",
      "    ----------\n",
      "    tblfile : str\n",
      "        Table file list of input images.\n",
      "    path : str, optional\n",
      "        Directory to write retrieved files.\n",
      "    restart : int, optional\n",
      "        Restart record, if download interupted.\n",
      "    timeout : int, optional\n",
      "        Download timeout (sec) per image.\n",
      "    debug : int, optional\n",
      "        Debugging output flag.\n",
      "    \n",
      "    \n",
      "    Returns\n",
      "    -------\n",
      "    status : int\n",
      "        Return status (0: OK, 1:ERROR).\n",
      "    msg : str\n",
      "        Return message (for errors).\n",
      "    count : int\n",
      "        Total number of images.\n",
      "    failed : int\n",
      "        Count where download failed.\n",
      "\n"
     ]
    }
   ],
   "source": [
    "from MontagePy.main import mArchiveExec\n",
    "\n",
    "help(mArchiveExec)\n"
   ]
  },
  {
   "cell_type": "markdown",
   "metadata": {},
   "source": [
    "\n",
    "## mArchiveExec Example\n",
    "\n",
    "mArchiveExec reads through the list of images returned by mArchiveList and uses mArchiveGet to retreive each one. One of the arguments is the output directory and it is up to the user to make sure it exists before calling the function."
   ]
  },
  {
   "cell_type": "code",
   "execution_count": 4,
   "metadata": {},
   "outputs": [
    {
     "name": "stdout",
     "output_type": "stream",
     "text": [
      "{'status': '0', 'count': 49, 'failed': 0}\n"
     ]
    }
   ],
   "source": [
    "rtn = mArchiveExec('M17/remote.tbl', 'work/M17/raw')\n",
    "\n",
    "print(rtn)\n"
   ]
  },
  {
   "cell_type": "markdown",
   "metadata": {},
   "source": [
    "Montage functions return JSON structures.  They always include a status (0: success; 1: error) and a variable number of informational parameters.  Here 36 images were asked for and none of them failed.\n",
    "\n",
    "\n",
    "## mArchiveExec Error Handling\n",
    "\n",
    "If mArchiveExec encounters an error, the return structure will just have two elements: a status of 1 (\"error\") and a message string that tries to diagnose the reason for the error.\n",
    "\n",
    "For instance, if the user inputs a table that is not an archive list:"
   ]
  },
  {
   "cell_type": "code",
   "execution_count": 5,
   "metadata": {},
   "outputs": [
    {
     "name": "stdout",
     "output_type": "stream",
     "text": [
      "{'status': '1', 'msg': b\"Table M17/unknown.tbl needs column 'URL' or 'url' and can optionally have columns 'fname'/'file' and pixel ranges 'imin'..'jmax'\"}\n"
     ]
    }
   ],
   "source": [
    "rtn = mArchiveExec('M17/unknown.tbl', 'work/M17/raw')\n",
    "\n",
    "print(rtn)\n"
   ]
  },
  {
   "cell_type": "markdown",
   "metadata": {},
   "source": [
    "<p>&nbsp;</p>\n",
    "\n",
    "## Classic Montage: mArchiveExec as a Stand-Alone Program\n",
    "### mArchiveExec Unix/Windows Command-line Arguments\n",
    "\n",
    "mArchiveExec can also be run as a command-line tool in Linux, OS X, and Windows:\n",
    "\n",
    "<p><tt>\n",
    "<b>Usage:</b> mArchiveExec [-d level][-p outputdir][-r startrec][-t timeout] region.tbl\n",
    "</tt></p>\n",
    "<p>&nbsp;</p>\n",
    "\n",
    "## mArchiveExec as a Library Call\n",
    "If you are writing in C/C++ on Linux or OSX, mArchiveExec can be accessed as a library function:"
   ]
  },
  {
   "cell_type": "markdown",
   "metadata": {},
   "source": [
    "<pre>\n",
    "/*-*****************************************************************/\n",
    "/*                                                                 */\n",
    "/*  mArchiveExec                                                   */\n",
    "/*                                                                 */\n",
    "/*  Reads a listing archive images and calls mArchiveGet to get    */\n",
    "/*  each one.                                                      */\n",
    "/*                                                                 */\n",
    "/*   char *tblfile     Table file list of images to get.           */\n",
    "/*                                                                 */\n",
    "/*   char *path        Directory to write retrieved files.         */\n",
    "/*   int nrestart      Restart record, if download interupted.     */\n",
    "/*   int timeout       Download timeout (sec) per image.           */\n",
    "/*   int debug         Debug flag.                                 */\n",
    "/*                                                                 */\n",
    "/*******************************************************************/\n",
    "\n",
    "struct mArchiveExecReturn *mArchiveExec(char *tblfile, int nrestart, int timeout, int debug)\n",
    "</pre>\n",
    "<p><b>Return Structure</b></p>\n",
    "<pre>\n",
    "struct mArchiveExecReturn\n",
    "{\n",
    "   int    status;        // Return status (0: OK, 1:ERROR)\n",
    "   char   msg [1024];    // Return message (for error return)\n",
    "   char   json[4096];    // Return parameters as JSON string\n",
    "   int    count;         // Number of images retrieved\n",
    "   int    failed;        // Number of retrievals that failed\n",
    "};\n",
    "</pre>"
   ]
  },
  {
   "cell_type": "code",
   "execution_count": null,
   "metadata": {},
   "outputs": [],
   "source": []
  }
 ],
 "metadata": {
  "kernelspec": {
   "display_name": "Python 3",
   "language": "python",
   "name": "python3"
  },
  "language_info": {
   "codemirror_mode": {
    "name": "ipython",
    "version": 3
   },
   "file_extension": ".py",
   "mimetype": "text/x-python",
   "name": "python",
   "nbconvert_exporter": "python",
   "pygments_lexer": "ipython3",
   "version": "3.6.5"
  }
 },
 "nbformat": 4,
 "nbformat_minor": 2
}
