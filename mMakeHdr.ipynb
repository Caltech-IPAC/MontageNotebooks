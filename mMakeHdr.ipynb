{
 "cells": [
  {
   "cell_type": "markdown",
   "metadata": {},
   "source": [
    "<font style=\"font-size:96px; font-weight:bolder; color:#0040a0\"><img src=\"http://montage.ipac.caltech.edu/docs/M51_logo.png\" alt=\"M\" style=\"float: left; padding: 25px 30px 25px 0px;\" /></font>\n",
    "\n",
    "<i><b>Montage</b> is a general astronomical image toolkit with facilities for reprojection, background matching, coaddition and visualization.  It can be used as a set of command-line tools (Linux, OS X and Windows), C library calls (Linux and OS X) and as Python binary extension modules.</i>\n",
    "    \n",
    "<i>Montage source code can be downloaded from GitHub ( https://github.com/Caltech-IPAC/Montage ).  The Python package can be installed from PyPI (\"pip install MontagePy\"). See\n",
    "http://montage.ipac.caltech.edu/ for more information.</i>"
   ]
  },
  {
   "cell_type": "markdown",
   "metadata": {},
   "source": [
    "# MontagePy.main modules: mMakeHdr\n",
    "\n",
    "Much of the Montage processing is based on the specification of an output image as captured in an ASCII file version of the output FITS header.  Sometimes such a header is cloned from an existing FITS file and sometimes created from scratch using an editor or the utility mHdr.  \n",
    "\n",
    "Another common approach is the create a header is to base it on a table of source locations or image metadata by drawing a bounding box around the table contents.  mMakeHdr reads through a table and determines such a bounding box using a spherical geometry variant of the rotating calipers technique from computational geometry.  The box can either be of overall minimum size or can include the constraint that North be oriented upward in the image."
   ]
  },
  {
   "cell_type": "code",
   "execution_count": 5,
   "metadata": {
    "scrolled": true
   },
   "outputs": [
    {
     "name": "stdout",
     "output_type": "stream",
     "text": [
      "Help on built-in function mMakeHdr in module MontagePy.main:\n",
      "\n",
      "mMakeHdr(...)\n",
      "    mMakeHdr subtracts one image from another (both already in the same projection).\n",
      "    \n",
      "    Parameters\n",
      "    ----------\n",
      "    tblfile : str\n",
      "        Input image metadata table.\n",
      "    template : str\n",
      "        Output image header template.\n",
      "    csys : str, optional\n",
      "        Coordinate system (e.g. 'EquJ', 'Galactic').  Fairly forgiving.\n",
      "    equinox : float, optional\n",
      "        Coordinate system equinox (e.g. 2000.0).\n",
      "    pixelScale : float, optional\n",
      "        Pixel scale in degrees. If zero the scale will be deduced from the image metadata table.\n",
      "    northAligned : int, optional\n",
      "        Defaults to minimum bounding box around input images.  This forces template to be north-aligned.\n",
      "    pad : float, optional\n",
      "        Optional extra padding around output template.\n",
      "    isPercentage : bool, optional\n",
      "        Pad is in pixels by default.  This changes that to a percentage of the image size.\n",
      "    maxPixel : int, optional\n",
      "        Setting the pixel scale can result in really big images.  If not zero, this sets the maximum number of pixels allowed in NAXIS1, NAXIS2.\n",
      "    debug : int, optional\n",
      "        Debugging output level.\n",
      "    \n",
      "    \n",
      "    Returns\n",
      "    -------\n",
      "    status : int\n",
      "        Return status (0: OK, 1:ERROR).\n",
      "    msg : str\n",
      "        Return message (for errors).\n",
      "    count : int\n",
      "        Number of images in metadata table.\n",
      "    ncube : int\n",
      "        Number of images that have 3/4 dimensions.\n",
      "    naxis1 : int\n",
      "        X axis pixel count in output template.\n",
      "    naxis2 : int\n",
      "        Y axis pixel count in output template.\n",
      "    clon : float\n",
      "        Center longitude for template.\n",
      "    clat : float\n",
      "        Center latitude for template.\n",
      "    lonsize : float\n",
      "        Template dimensions in X.\n",
      "    latsize : float\n",
      "        Template dimensions in Y.\n",
      "    posang : float\n",
      "        Rotation angle of template.\n",
      "    lon1 : float\n",
      "        Image corners (lon of first corner).\n",
      "    lat1 : float\n",
      "        Image corners (lat of first corner).\n",
      "    lon2 : float\n",
      "        Image corners (lon of second corner).\n",
      "    lat2 : float\n",
      "        Image corners (lat of second corner).\n",
      "    lon3 : float\n",
      "        Image corners (lon of third corner).\n",
      "    lat3 : float\n",
      "        Image corners (lat of third corner).\n",
      "    lon4 : float\n",
      "        Image corners (lon of fourth corner).\n",
      "    lat4 : float\n",
      "        Image corners (lat of fourth corner).\n",
      "\n"
     ]
    }
   ],
   "source": [
    "from MontagePy.main import mMakeHdr, mViewer\n",
    "\n",
    "help(mMakeHdr)"
   ]
  },
  {
   "cell_type": "markdown",
   "metadata": {},
   "source": [
    "## mMakeHdr Example\n",
    "\n",
    "The principle parameters for mMakeHdr are the table file to be fit (either just coordinates or image metadata) and the output header file name.  There are optional settings for specifying the coordinate system to use, the pixel scale (the default is derived from the table), and whether the image should be \"North-up\".\n",
    "\n",
    "We have a set of images retrieved from the 2MASS archive that overlap with a 1-degree box around M17.  Using the metadata from those image and mMakeHdr, we will derive a header file which is somewhat larger, since it will bound the entirity of those images:\n"
   ]
  },
  {
   "cell_type": "code",
   "execution_count": 7,
   "metadata": {},
   "outputs": [
    {
     "name": "stdout",
     "output_type": "stream",
     "text": [
      "{'status': '0', 'count': 49, 'ncube': 0, 'naxis1': 4415, 'naxis2': 4909, 'clon': 275.18944550132534, 'clat': -16.247785977590365, 'lonsize': 1.2263986999999998, 'latsize': 1.36362202, 'posang': 359.9540632922402, 'lon1': 275.82978058308714, 'lat1': -16.929059333050994, 'lon2': 274.54797105435335, 'lat2': -16.928072711843267, 'lon3': 274.55353923516526, 'lat3': -15.564603608451247, 'lon4': 275.82648962400526, 'lat4': -15.565583410970302}\n"
     ]
    }
   ],
   "source": [
    "rtn = mMakeHdr('M17/remote.tbl', 'work/M17/bounding.hdr')\n",
    "\n",
    "print(rtn)"
   ]
  },
  {
   "cell_type": "markdown",
   "metadata": {},
   "source": [
    "### Header\n",
    "\n",
    "Here is the generated header:"
   ]
  },
  {
   "cell_type": "code",
   "execution_count": 8,
   "metadata": {},
   "outputs": [
    {
     "name": "stdout",
     "output_type": "stream",
     "text": [
      "SIMPLE  = T\n",
      "BITPIX  = -64\n",
      "NAXIS   = 2\n",
      "NAXIS1  = 4415\n",
      "NAXIS2  = 4909\n",
      "CTYPE1  = 'RA---TAN'\n",
      "CTYPE2  = 'DEC--TAN'\n",
      "EQUINOX = 2000\n",
      "CRVAL1  =  275.189445501\n",
      "CRVAL2  =  -16.247785978\n",
      "CRPIX1  =      2208.0000\n",
      "CRPIX2  =      2455.0000\n",
      "CDELT1  =   -0.000277780\n",
      "CDELT2  =    0.000277780\n",
      "CROTA2  =  359.954063292\n",
      "END\n"
     ]
    }
   ],
   "source": [
    "with open('work/M17/bounding.hdr', 'r') as fin:\n",
    "    print(fin.read(), end='')"
   ]
  },
  {
   "cell_type": "markdown",
   "metadata": {},
   "source": [
    "## Error Handling\n",
    "\n",
    "If mMakeHdr encounters an error, the return structure will just have two elements: a status of 1 (\"error\") and a message string that tries to diagnose the reason for the error.\n",
    "\n",
    "For instance, if the user asks for a non-existent input table:"
   ]
  },
  {
   "cell_type": "code",
   "execution_count": 4,
   "metadata": {},
   "outputs": [
    {
     "name": "stdout",
     "output_type": "stream",
     "text": [
      "{'status': '1', 'msg': b'Invalid table file: M17/unknown.tbl'}\n"
     ]
    }
   ],
   "source": [
    "rtn = mMakeHdr('M17/unknown.tbl', \"work/M17/bounding.hdr\")\n",
    "\n",
    "print(rtn)"
   ]
  },
  {
   "cell_type": "markdown",
   "metadata": {},
   "source": [
    "&nbsp;\n",
    "\n",
    "## Classic Montage: mMakeHdr as a Stand-Alone Program\n",
    "\n",
    "### mMakeHdr Unix/Windows Command-line Arguments\n",
    "\n",
    "<p>mMakeHdr can also be run as a command-line tool in Linux, OS X, and Windows:</p>\n",
    "\n",
    "<p><tt>\n",
    "<b>Usage:</b> mMakeHdr [-d level] [-s statusfile] [-p(ixel-scale) cdelt | -P maxpixel] [-e edgepixels] [-n] images.tbl template.hdr [system [equinox]] (where system = EQUJ|EQUB|ECLJ|ECLB|GAL|SGAL)\n",
    "</tt></p>\n",
    "<p>&nbsp;</p>\n",
    "<p>If you are writing in C/C++, mMakeHdr can be accessed as a library function:</p>\n"
   ]
  },
  {
   "cell_type": "markdown",
   "metadata": {},
   "source": [
    "<pre>\n",
    "/*-***********************************************************************/\n",
    "/*                                                                       */\n",
    "/*  mMakeHdr                                                             */\n",
    "/*                                                                       */\n",
    "/*  Create the best header 'bounding' a table or set of tables (each     */\n",
    "/*  with image metadata or point sources).                               */\n",
    "/*                                                                       */\n",
    "/*   char  *tblfile        Input image metadata table or source table    */\n",
    "/*                         or table of tables                            */\n",
    "/*                                                                       */\n",
    "/*   char  *template       Output image header template                  */\n",
    "/*                                                                       */\n",
    "/*   char  *csys           Coordinate system (e.g. 'EquJ', 'Galactic').  */\n",
    "/*                         Fairly forgiving                              */\n",
    "/*                                                                       */\n",
    "/*   double equinox        Coordinate system equinox (e.g. 2000.0)       */\n",
    "/*                                                                       */\n",
    "/*   double pixelScale     Pixel scale in degrees                        */\n",
    "/*                                                                       */\n",
    "/*   int    northAligned   Defaults to minimum bounding box around       */\n",
    "/*                         input images.  This forces template to be     */\n",
    "/*                         north-aligned                                 */\n",
    "/*                                                                       */\n",
    "/*   double pad            Optional extra padding around output template */\n",
    "/*                                                                       */\n",
    "/*   int    isPercentage   Pad is in pixels by default.  This changes    */\n",
    "/*                         that to a percentage of the image size        */\n",
    "/*                                                                       */\n",
    "/*   int    maxPixel       Setting the pixel scale can result in really  */\n",
    "/*                         big images.  This forces a maximum number     */\n",
    "/*                         of pixels in NAXIS1, NAXIS2                   */\n",
    "/*                                                                       */\n",
    "/*   int    debug          Debugging output level                        */\n",
    "/*                                                                       */\n",
    "/*************************************************************************/\n",
    "\n",
    "struct mMakeHdrReturn *mMakeHdr(char *tblfile, char *template, char *csysin, double equinox, double pixelScale, \n",
    "                                int northAligned, double pad, int isPercentage, int maxPixel, int debugin)\n",
    "</pre>\n",
    "<p><b>Return Structure</b></p>\n",
    "<pre>\n",
    "struct mMakeHdrReturn\n",
    "{\n",
    "   int    status;        // Return status (0: OK, 1:ERROR)\n",
    "   char   msg [1024];    // Return message (for error return)\n",
    "   char   json[4096];    // Return parameters as JSON string\n",
    "   char   note[1024];    // Cautionary message (only there if needed).   \n",
    "   int    count;         // Number of images in metadata table.\n",
    "   int    ncube;         // Number of images that have 3/4 dimensions.\n",
    "   int    naxis1;        // X axis pixel count in output template.\n",
    "   int    naxis2;        // Y axis pixel count in output template.\n",
    "   double clon;          // Center longitude for template.\n",
    "   double clat;          // Center latitude for template.\n",
    "   double lonsize;       // Template dimensions in X.\n",
    "   double latsize;       // Template dimensions in Y.\n",
    "   double posang;        // Rotation angle of template.\n",
    "   double lon1;          // Image corners (lon of first corner).\n",
    "   double lat1;          // Image corners (lat of first corner).\n",
    "   double lon2;          // Image corners (lon of second corner).\n",
    "   double lat2;          // Image corners (lat of second corner).\n",
    "   double lon3;          // Image corners (lon of third corner).\n",
    "   double lat3;          // Image corners (lat of third corner).\n",
    "   double lon4;          // Image corners (lon of fourth corner).\n",
    "   double lat4;          // Image corners (lat of fourth corner).\n",
    "};\n",
    "</pre>"
   ]
  }
 ],
 "metadata": {
  "kernelspec": {
   "display_name": "Python 3",
   "language": "python",
   "name": "python3"
  },
  "language_info": {
   "codemirror_mode": {
    "name": "ipython",
    "version": 3
   },
   "file_extension": ".py",
   "mimetype": "text/x-python",
   "name": "python",
   "nbconvert_exporter": "python",
   "pygments_lexer": "ipython3",
   "version": "3.6.5"
  }
 },
 "nbformat": 4,
 "nbformat_minor": 2
}
