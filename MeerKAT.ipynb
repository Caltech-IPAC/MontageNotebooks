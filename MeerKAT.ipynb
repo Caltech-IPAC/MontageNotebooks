{
 "cells": [
  {
   "cell_type": "markdown",
   "metadata": {},
   "source": [
    "<font style=\"font-size:96px; font-weight:bolder; color:#0040a0\"><img src=\"http://montage.ipac.caltech.edu/docs/M51.jpg\" style=\"float: right; padding: 70px 0px 0px 50px;\" /></font>\n",
    "\n",
    "# Combining MeerKAT with 2MASS\n",
    "\n",
    "<p style=\"color:#c00000;\">The ability to properly combine astronomical data at different wavelengths is a great multiplier that has really come into its own in the past couple of decades.  Whenever you do, you see new things, no matter how different the datasets seem at first.</p>\n",
    "\n",
    "Here we are going to mosaic together near-infrared 2MASS data to make an exact match with a pre-made MeerKAT (1.28 GHz) radio map. The MeerKAT image is rich with hot bubbles of gas associated with new stars and supernova remnants whereas 2MASS shows dust clouds (or remnants of them) associated with star formation.\n",
    "\n",
    "\n",
    "## Setup\n",
    "\n",
    "The Montage Python package is a mixture of pure Python and Python binary extension code.  It can be downloaded using <tt style=\"color: #c00000;\">pip install MontagePy</tt>.  You will also need OpenCV (<tt style=\"color: #c00000;\">pip install opencv-python</tt>) for some cosmetic PNG manipulation at the end.\n"
   ]
  },
  {
   "cell_type": "code",
   "execution_count": null,
   "metadata": {},
   "outputs": [],
   "source": [
    "# Startup.  The Montage modules are pretty much self-contained\n",
    "# but this script needs a few extra utilities.  If you don't have\n",
    "# these, they also can easily be \"pip installed\".\n",
    "\n",
    "import os\n",
    "import sys\n",
    "import shutil\n",
    "import cv2 as cv\n",
    "\n",
    "from MontagePy.main    import *\n",
    "from MontagePy.archive import *\n",
    "\n",
    "from IPython.display import display, Image\n",
    "\n",
    "import datetime\n",
    "now = datetime.datetime.now()\n",
    "print(now.strftime(\"%Y-%m-%d %H:%M:%S\"))\n",
    "\n",
    "\n",
    "# We create and move into several subdirectories in this notebook \n",
    "# but we want to come back to the original startup directory \n",
    "# whenever we restart the processing. \n",
    "\n",
    "# Here we use the directory where we started the Notebook as that\n",
    "# home directory.  Feel free to explicitly point somewhere else.\n",
    "\n",
    "try:\n",
    "    home\n",
    "except:\n",
    "    home = os.getcwd()\n",
    "\n",
    "os.chdir(home)\n",
    "\n",
    "print(\"Startup folder: \" + home)\n"
   ]
  },
  {
   "cell_type": "markdown",
   "metadata": {},
   "source": [
    "## MeerKAT Data\n",
    "\n",
    "The MeerKAT data we will use is already a radio mosaic.  With access to the raw observations, this mosaic could also be built using Montage but here we are going to leverage the work that others have done and just download the existing mosaic as our starting point:\n",
    "\n",
    "https://archive-gw-1.kat.ac.za/public/repository/10.48479/fyst-hj47/data/MeerKAT_Galactic_Centre_1284MHz-StokesI.fits\n",
    "\n",
    "We could perform the download from inside the Notebook but this is a big file (nearly a GByte) and you wouldn't want to download it every time you run this notebook.  So download it once however you prefer and save it to the directory designated as 'home' above."
   ]
  },
  {
   "cell_type": "markdown",
   "metadata": {},
   "source": [
    "### Extract the MeerKAT Image Header \n",
    "\n",
    "In order to build mosaics from 2MASS we need to define the header for the output mosaic FITS files.  And since we want our 2MASS mosaics to match the MeerKAT image, the simplest thing is to use the MeerKAP FITS header as the template for building them.  \n",
    "\n",
    "The Montage mGetHdr tools extracts the header from an image and puts it into a text file.  That header can then be edited however we wish.  The MeerKAT header will contain a bunch of stuff specific to MeerKAT but since in this case we only care about projection information we can be lazy and just use it as is:"
   ]
  },
  {
   "cell_type": "code",
   "execution_count": null,
   "metadata": {},
   "outputs": [],
   "source": [
    "# Extract the FITS header from the MeerKAT image:\n",
    "\n",
    "now = datetime.datetime.now()\n",
    "print(now.strftime(\"%Y-%m-%d %H:%M:%S\"))\n",
    "\n",
    "os.chdir(home)\n",
    "\n",
    "meerkat = home + \"/MeerKAT_Galactic_Centre_1284MHz-StokesI.fits\"\n",
    "\n",
    "rtn = mGetHdr(meerkat, \"region.hdr\")\n",
    "\n",
    "print(\"mGetHdr:          \" + str(rtn), flush=True)\n",
    "\n",
    "rtn = mExamine(meerkat)\n",
    "\n",
    "location = str(rtn[\"lonc\"]) + \" \" + str(rtn[\"latc\"])\n",
    "\n",
    "size = rtn[\"ximgsize\"]\n",
    "if rtn[\"yimgsize\"] > size:\n",
    "    size = rtn[\"yimgsize\"]\n",
    "    \n",
    "ratio = 1000./size\n",
    "\n",
    "width  = rtn[\"ximgsize\"] * ratio\n",
    "height = rtn[\"yimgsize\"] * ratio\n",
    "\n",
    "shape = (int(width), int(height))\n",
    "\n",
    "print(\"location:         \" + location, flush=True)\n",
    "print(\"size:             \" + str(size))\n",
    "print(\"shape:            \" + str(shape))"
   ]
  },
  {
   "cell_type": "markdown",
   "metadata": {},
   "source": [
    "\n",
    "## Working Environment\n",
    "\n",
    "Before we get to actually building the mosaic, we need to set up our working environment.  Given the volume of data possible, the Montage processing is file based and we need to set up some subdirectories to hold bits of it.  This will all be under an instance-specific directory specified below (\"workdir\").  It is best not to use directory names with embedded spaces."
   ]
  },
  {
   "cell_type": "code",
   "execution_count": null,
   "metadata": {},
   "outputs": [],
   "source": [
    "# Clean out any old copy of the work tree, then remake it\n",
    "# and the set of the subdirectories we will need.\n",
    "\n",
    "now = datetime.datetime.now()\n",
    "print(now.strftime(\"%Y-%m-%d %H:%M:%S\"))\n",
    "\n",
    "workdir = \"2MASSJ\"\n",
    "\n",
    "os.chdir(home)\n",
    "\n",
    "try:\n",
    "    shutil.rmtree(workdir)\n",
    "except:\n",
    "    print(\"Can't delete work tree; probably doesn't exist yet.\\n\", flush=True)\n",
    "\n",
    "print(\"Work directory: \" + workdir, flush=True)\n",
    "\n",
    "os.makedirs(workdir)  \n",
    "\n",
    "os.chdir(workdir)\n",
    "\n",
    "os.makedirs(\"raw\")\n",
    "os.makedirs(\"projected\")\n",
    "os.makedirs(\"diffs\")\n",
    "os.makedirs(\"corrected\")\n"
   ]
  },
  {
   "cell_type": "markdown",
   "metadata": {},
   "source": [
    "## Retrieving Data from an Archive\n",
    "\n",
    "Now the first bit of Montage processing.  Montage uses standard FITS files throughout and FITS files have all the metadata describing the image (for us that mainly means pixel scale, projection type and center, rotation and so on).  To drive the processing we need a \"FITS header\" specification from the user, which we captured above in the header \"template\" file that looks just like a FITS header though with newlines (FITS headers have fixed 80-character card images with no line breaks).  Other ways to get a header template include mHdr, which creates a simple gnomonic projection header using center location, pixel scale and size) and mMakeHdr (which fits a bounding box around a set of images; usually the ones you are about to mosaic).  Or if you know enough you can just create one with an editor.\n",
    "\n",
    "For data retrieval, Montage supports image metadata search using mSearch &mdash; a very fast R-Tree / memory-mapped utility &mdash; for most datasets.  This service returns URLs for all the images covering the region of interest, which are then downloaded.\n",
    "\n",
    "There are many other ways to find images.  The International Virtual Astronomy Alliance (IVOA) has developed a couple of standards for querying metadata (Simple Image Access: SIAP and Table Access Protocol: TAP) which many data providers support.  Our service is focused on a few large uniform datasets (2MASS, DSS, SDSS, WISE).  Other datasets require more care.  For instance, simply downloading all pointed observations of a specific region for a non-survey instrument will include a wide range of integration times (and therefore noise levels) and the mosaicking should involve user-specified weighting of the images (which Montage supports but does not define)."
   ]
  },
  {
   "cell_type": "code",
   "execution_count": null,
   "metadata": {},
   "outputs": [],
   "source": [
    "# Retrieve archive images covering the region then scan \n",
    "# the images for their coverage metadata.\n",
    "\n",
    "now = datetime.datetime.now()\n",
    "print(now.strftime(\"%Y-%m-%d %H:%M:%S\"))\n",
    "\n",
    "os.chdir(home + \"/2MASSJ\")\n",
    "\n",
    "dataset = '2MASS J'\n",
    "\n",
    "rtn = mArchiveDownload(dataset, location, size, \"raw\")\n",
    "\n",
    "print(\"mArchiveDownload: \" + str(rtn), flush=True)\n",
    "\n",
    "rtn = mImgtbl(\"raw\", \"rimages.tbl\")\n",
    "\n",
    "print(\"mImgtbl (raw):    \" + str(rtn), flush=True)"
   ]
  },
  {
   "cell_type": "markdown",
   "metadata": {},
   "source": [
    "## Reprojecting the Images\n",
    "\n",
    "In the last step above, we generated a list of all the images (with projection metadata) that had been successfully downloaded.  Using this and header template from above, we can now reproject all the images to a common frame.\n",
    "\n",
    "Montage supplies four different reprojection modules to fit different needs.  mProject is completely general and is flux conserving but this results in it being fairly slow.  For a subset of projections (specifically where both the source and destination are tangent-plane projections) we can use a custom plane-to-plane algorithm developed by the Spitzer Space Telescope).  While mProjectPP only supports a subset of cases, they are extremely common ones.  mProjectPP is also flux conserving.\n",
    "\n",
    "For fast reprojection, we relax the flux conservation requirement. However, even though we call attention to this explicitly in the name of the module: mProjectQL (quick-look), the results are indistinguishable from the other algorithms for all the tests we have run.\n",
    "\n",
    "The fourth reprojection module, mProjectCube, is specifically for three- and four-dimensional datacubes.\n",
    "\n",
    "mProjExec is a wrapper around the three main reprojection routines that determines whether mProjectPP or mProject should be used for each image (unless overridden with mProjectQL as here).  There is one final twist:  FITS headers allow for distortion parameters.  While these were introduced to deal with instrumental distortions, we can often use them to mimic an arbitrary projection over a small region with a distorted gnomonic projection.  This allows us to use mProjectPP over a wider range of cases and still have flux conservation with increased speed."
   ]
  },
  {
   "cell_type": "code",
   "execution_count": null,
   "metadata": {},
   "outputs": [],
   "source": [
    "# Reproject the original images to the  frame of the \n",
    "# output FITS header we created\n",
    "\n",
    "now = datetime.datetime.now()\n",
    "print(now.strftime(\"%Y-%m-%d %H:%M:%S\"))\n",
    "\n",
    "os.chdir(home + \"/2MASSJ\")\n",
    "\n",
    "rtn = mProjExec(\"raw\", \"rimages.tbl\", \"../region.hdr\", projdir=\"projected\", quickMode=True)\n",
    "\n",
    "print(\"mProjExec:           \" + str(rtn), flush=True)\n",
    "\n",
    "mImgtbl(\"projected\", \"pimages.tbl\")\n",
    "\n",
    "print(\"mImgtbl (projected): \" + str(rtn), flush=True)"
   ]
  },
  {
   "cell_type": "markdown",
   "metadata": {},
   "source": [
    "## Coadding for a Mosaic\n",
    "\n",
    "Now that we have a set of images all reprojected to a common frame, we can coadd them into a mosaic.  "
   ]
  },
  {
   "cell_type": "code",
   "execution_count": null,
   "metadata": {},
   "outputs": [],
   "source": [
    "# Coadd the projected images without backgound correction.\n",
    "# This step is just to illustrate the need for background correction\n",
    "# and can be omitted.\n",
    "\n",
    "now = datetime.datetime.now()\n",
    "print(now.strftime(\"%Y-%m-%d %H:%M:%S\"))\n",
    "\n",
    "os.chdir(home + \"/2MASSJ\")\n",
    "\n",
    "rtn = mAdd(\"projected\", \"pimages.tbl\", \"../region.hdr\", \"uncorrected.fits\")\n",
    "\n",
    "print(\"mAdd:    \" + str(rtn), flush=True)"
   ]
  },
  {
   "cell_type": "markdown",
   "metadata": {},
   "source": [
    "## View the Image\n",
    "\n",
    "FITS files are binary data structures. To see the image we need to render to a JPEG or PNG form.  This involves choosing a stretch, color table (if it is a single image as here) and so on.  Montage provides a general visualization tool (mViewer) which can process a single image or multiple images for full color.  It supports overlays of various sorts.  One of its most useful features is a custom stretch algorithm which is based on gaussian-transformed histogram equalization, optionally with an extra logarithmic transform for really bright excursions.  A large fraction of astronomical images share the general characteristics of having a lot of pixels with something like a gaussian distribution at a low flux level (either background noise of low-level sky structure) coupled with a long histogram tail of very bright point-like sources.  If we apply our algorithm to this, stretching from the -2 or -1 \"sigma\" value of the low-level distribution to the image brightness maximum we usually get a good balance of seeing the low-level structure while still seeing the structure and brightness variations of the bright sources.\n",
    "\n",
    "mViewer specifications can become quite lengthy so the module provides three entry mechanisms.  The most terse (used here) is a \"parameter string\" based on the command-line arguments of the original stand-alone C program.  For more complicated descriptions the user can define a JSON string or JSON file.  See the <a style=\"text-decoration: none; color: #c00000\" href=\"https://github.com/Caltech-IPAC/MontageNotebooks/blob/main/mViewer.ipynb\"> Sky Visualization </a> notebook example.\n",
    "\n",
    "We use the built-in IPython.display utility to show the resultant image, which shrinks it to fit.  There are several other tools you can use instead."
   ]
  },
  {
   "cell_type": "code",
   "execution_count": null,
   "metadata": {},
   "outputs": [],
   "source": [
    "# Make a PNG rendering of the data and display it.\n",
    "\n",
    "now = datetime.datetime.now()\n",
    "print(now.strftime(\"%Y-%m-%d %H:%M:%S\"))\n",
    "\n",
    "os.chdir(home + \"/2MASSJ\")\n",
    "\n",
    "rtn = mViewer(\"-ct 1 -gray uncorrected.fits -2s max gaussian-log -out uncorrected.png\", \"\", mode=2)\n",
    "\n",
    "print(\"mViewer: \" + str(rtn), flush=True)\n",
    "\n",
    "# Jupyter IPython display gets unhappy with big images, so shrink the PNG\n",
    "\n",
    "img = cv.imread(\"uncorrected.png\")\n",
    "img = cv.resize(img, shape)\n",
    "cv.imwrite('uncorrected_small.png', img)\n",
    "\n",
    "Image(filename='uncorrected_small.png')"
   ]
  },
  {
   "cell_type": "markdown",
   "metadata": {},
   "source": [
    "## Background Matching\n",
    "\n",
    "We can do better.  In the above image there are vertical stripes.  Even though the images were accurately flux-calibrated the background levels in the individual image varied due to real changes in the brightness of the sky (2MASS data was taken from the ground, so the atmosphere was a variable).\n",
    "\n",
    "This is a common problem; differential photometry is easier than absolute.  So Montage provides tools for determining what is essentially a compromise background:  Not flattened (since in the above mosaic there is real structure throughout the image) and not modelled (there might be a model you can develop for the Galactic structure above but it wouldn't do that good a job of cleaning up the mosaic). \n",
    "\n",
    "Rather, we ask what is the set of minimum adjustments we can make to the individual image backgrounds to bring them all in-line with each others.  Often, this is just a constant offset; at most it includes slight slopes.  Anything more and we are starting to fit the sky structure rather than the background differences.\n",
    "\n",
    "The first steps is determining the corrections is to analyze the overlap areas between adjacent images.  We determine from the image metadata (which again includes sky coverage) where there are overlaps.  Then for each pairwise overlap, we compute the image difference.  There is an explicit assumption here that a such a pair the sources and other real-sky structure match (including flux scales) so the difference should have nothing in it but background differences.  We then fit each difference with a plane (ignoring large excursions just to be safe).\n",
    "\n",
    "Finally, given this set of difference fits, we determine iteratively a global mimimum difference which results in a set of corrections to each image."
   ]
  },
  {
   "cell_type": "code",
   "execution_count": null,
   "metadata": {},
   "outputs": [],
   "source": [
    "# Determine the overlaps between images (for background modeling).\n",
    "\n",
    "now = datetime.datetime.now()\n",
    "print(now.strftime(\"%Y-%m-%d %H:%M:%S\"))\n",
    "\n",
    "os.chdir(home + \"/2MASSJ\")\n",
    "\n",
    "rtn = mOverlaps(\"pimages.tbl\", \"diffs.tbl\")\n",
    "\n",
    "print(\"mOverlaps:    \" + str(rtn), flush=True)\n",
    "\n",
    "\n",
    "# Generate difference images and fit them.\n",
    "\n",
    "rtn = mDiffFitExec(\"projected\", \"diffs.tbl\", \"../region.hdr\", \"diffs\", \"fits.tbl\")\n",
    "\n",
    "print(\"mDiffFitExec: \" + str(rtn), flush=True)\n",
    "\n",
    "\n",
    "# Model the background corrections.\n",
    "\n",
    "rtn = mBgModel(\"pimages.tbl\", \"fits.tbl\", \"corrections.tbl\")\n",
    "\n",
    "print(\"mBgModel:     \" + str(rtn), flush=True)"
   ]
  },
  {
   "cell_type": "markdown",
   "metadata": {},
   "source": [
    "## Background Correcting and Re-Mosaicking\n",
    "\n",
    "Now all we have to do is apply the background corrections to the individual images and regenerate the mosaic.  While we don't attempt to maintain the global total flux (this would be meaningless in any case given the source of the offsets), in general our final mosaic is close to this level.\n",
    "\n",
    "For those cases where the background should truly be flat (extragalactic fields with no foreground we want to keep) Montage also provides simple \"flattening\" tools."
   ]
  },
  {
   "cell_type": "code",
   "execution_count": null,
   "metadata": {},
   "outputs": [],
   "source": [
    "# Background correct the projected images.\n",
    "\n",
    "now = datetime.datetime.now()\n",
    "print(now.strftime(\"%Y-%m-%d %H:%M:%S\"))\n",
    "\n",
    "os.chdir(home + \"/2MASSJ\")\n",
    "\n",
    "rtn = mBgExec(\"projected\", \"pimages.tbl\", \"corrections.tbl\", \"corrected\")\n",
    "\n",
    "print(\"mBgExec:             \" + str(rtn), flush=True)\n",
    "\n",
    "rtn = mImgtbl(\"corrected\", \"cimages.tbl\")\n",
    "\n",
    "print(\"mImgtbl (corrected): \" + str(rtn), flush=True)\n",
    "\n",
    "\n",
    "# Coadd the background-corrected, projected images.\n",
    "\n",
    "rtn = mAdd(\"corrected\", \"cimages.tbl\", \"../region.hdr\", \"2massj.fits\")\n",
    "\n",
    "print(\"mAdd:                \" + str(rtn), flush=True)"
   ]
  },
  {
   "cell_type": "markdown",
   "metadata": {},
   "source": [
    "## Final Image\n",
    "\n",
    "Now when we regenerate and display a PNG for the mosaic, it has no artifacts and all of the low-level structure is preserved."
   ]
  },
  {
   "cell_type": "code",
   "execution_count": null,
   "metadata": {
    "scrolled": true
   },
   "outputs": [],
   "source": [
    "# Make a PNG rendering of the data and display it.\n",
    "\n",
    "now = datetime.datetime.now()\n",
    "print(now.strftime(\"%Y-%m-%d %H:%M:%S\"))\n",
    "\n",
    "os.chdir(home + \"/2MASSJ\")\n",
    "\n",
    "rtn = mViewer(\"-ct 1 -gray 2massj.fits -2s max gaussian-log -out 2massj.png\", \"\", mode=2)\n",
    "\n",
    "img = cv.imread(\"2massj.png\")\n",
    "img = cv.resize(img, shape)\n",
    "cv.imwrite('2massj_small.png', img)\n",
    "\n",
    "Image(filename='2massj_small.png')"
   ]
  },
  {
   "cell_type": "markdown",
   "metadata": {},
   "source": [
    "## Full Color and Overlays\n",
    "\n",
    "The above can be packaged up in a Python script with whatever minimum input and defaults you desired.  Repeat the processing for three different wavelengths and you can combine them (and optionally overlays of various sorts) into a full-color image. Below, in compressed form, are the other two 2MASS wavelengths.\n",
    "\n",
    "For clarity, we've removed error checking and debugging output."
   ]
  },
  {
   "cell_type": "markdown",
   "metadata": {},
   "source": [
    "\n",
    "\n",
    "## H-Band"
   ]
  },
  {
   "cell_type": "code",
   "execution_count": null,
   "metadata": {},
   "outputs": [],
   "source": [
    "# Clean out any old copy of the work tree for 2MASS H, then remake it\n",
    "# and the set of the subdirectories we will need.\n",
    "\n",
    "now = datetime.datetime.now()\n",
    "print(now.strftime(\"%Y-%m-%d %H:%M:%S\"))\n",
    "\n",
    "workdir = \"2MASSH\"\n",
    "\n",
    "os.chdir(home)\n",
    "\n",
    "try:\n",
    "    shutil.rmtree(workdir)\n",
    "except:\n",
    "    print(\"Can't delete work tree; probably doesn't exist yet.\\n\", flush=True)\n",
    "\n",
    "os.makedirs(workdir)  \n",
    "\n",
    "os.chdir(workdir)\n",
    "\n",
    "os.makedirs(\"raw\")\n",
    "os.makedirs(\"projected\")\n",
    "os.makedirs(\"diffs\")\n",
    "os.makedirs(\"corrected\")"
   ]
  },
  {
   "cell_type": "code",
   "execution_count": null,
   "metadata": {},
   "outputs": [],
   "source": [
    "dataset = \"2MASS H\"\n",
    "\n",
    "os.chdir(home + \"/2MASSH\")\n",
    "\n",
    "now = datetime.datetime.now()\n",
    "print(now.strftime(\"%Y-%m-%d %H:%M:%S\"))\n",
    "\n",
    "mArchiveDownload(dataset, location, size, \"raw\")\n",
    "rtn = mImgtbl(\"raw\", \"rimages.tbl\")\n",
    "\n",
    "print(\"Raw images:          \" + str(rtn), flush=True)"
   ]
  },
  {
   "cell_type": "code",
   "execution_count": null,
   "metadata": {},
   "outputs": [],
   "source": [
    "now = datetime.datetime.now()\n",
    "print(now.strftime(\"%Y-%m-%d %H:%M:%S\"))\n",
    "\n",
    "os.chdir(home + \"/2MASSH\")\n",
    "\n",
    "mProjExec(\"raw\", \"rimages.tbl\", \"../region.hdr\", projdir=\"projected\", quickMode=True)\n",
    "mImgtbl(\"projected\", \"pimages.tbl\")\n",
    "\n",
    "mOverlaps(\"pimages.tbl\", \"diffs.tbl\")\n",
    "\n",
    "mDiffFitExec(\"projected\", \"diffs.tbl\", \"../region.hdr\", \"diffs\", \"fits.tbl\")\n",
    "\n",
    "mBgModel(\"pimages.tbl\", \"fits.tbl\", \"corrections.tbl\", \"\")\n",
    "\n",
    "mBgExec(\"projected\", \"pimages.tbl\", \"corrections.tbl\", \"corrected\")\n",
    "mImgtbl(\"corrected\", \"cimages.tbl\")\n",
    "\n",
    "rtn = mAdd(\"corrected\", \"cimages.tbl\", \"../region.hdr\", \"2massh.fits\")\n",
    "\n",
    "mViewer(\"-ct 1 -gray 2massh.fits -2s max gaussian-log -out 2massh.png\", \"\", mode=2)\n",
    "\n",
    "img = cv.imread(\"2massh.png\")\n",
    "img = cv.resize(img, shape)\n",
    "cv.imwrite('2massh_small.png', img)\n",
    "\n",
    "Image(filename='2massh_small.png')"
   ]
  },
  {
   "cell_type": "markdown",
   "metadata": {},
   "source": [
    "\n",
    "\n",
    "## K-Band"
   ]
  },
  {
   "cell_type": "code",
   "execution_count": null,
   "metadata": {},
   "outputs": [],
   "source": [
    "# Clean out any old copy of the work tree for 2MASS H, then remake it\n",
    "# and the set of the subdirectories we will need.\n",
    "\n",
    "now = datetime.datetime.now()\n",
    "print(now.strftime(\"%Y-%m-%d %H:%M:%S\"))\n",
    "\n",
    "workdir = \"2MASSK\"\n",
    "\n",
    "os.chdir(home)\n",
    "\n",
    "try:\n",
    "    shutil.rmtree(workdir)\n",
    "except:\n",
    "    print(\"Can't delete work tree; probably doesn't exist yet.\\n\", flush=True)\n",
    "\n",
    "os.makedirs(workdir)  \n",
    "\n",
    "os.chdir(workdir)\n",
    "\n",
    "os.makedirs(\"raw\")\n",
    "os.makedirs(\"projected\")\n",
    "os.makedirs(\"diffs\")\n",
    "os.makedirs(\"corrected\")"
   ]
  },
  {
   "cell_type": "code",
   "execution_count": null,
   "metadata": {},
   "outputs": [],
   "source": [
    "now = datetime.datetime.now()\n",
    "print(now.strftime(\"%Y-%m-%d %H:%M:%S\"))\n",
    "\n",
    "dataset = \"2MASS K\"\n",
    "\n",
    "mArchiveDownload(dataset, location, size, \"raw\")\n",
    "rtn = mImgtbl(\"raw\", \"rimages.tbl\")\n",
    "\n",
    "print(\"Raw images:          \" + str(rtn), flush=True)"
   ]
  },
  {
   "cell_type": "code",
   "execution_count": null,
   "metadata": {},
   "outputs": [],
   "source": [
    "now = datetime.datetime.now()\n",
    "print(now.strftime(\"%Y-%m-%d %H:%M:%S\"))\n",
    "\n",
    "os.chdir(home + \"/2MASSK\")\n",
    "\n",
    "mProjExec(\"raw\", \"rimages.tbl\", \"../region.hdr\", projdir=\"projected\", quickMode=True)\n",
    "mImgtbl(\"projected\", \"pimages.tbl\")\n",
    "\n",
    "mOverlaps(\"pimages.tbl\", \"diffs.tbl\")\n",
    "\n",
    "mDiffFitExec(\"projected\", \"diffs.tbl\", \"../region.hdr\", \"diffs\", \"fits.tbl\")\n",
    "\n",
    "mBgModel(\"pimages.tbl\", \"fits.tbl\", \"corrections.tbl\", \"\")\n",
    "\n",
    "mBgExec(\"projected\", \"pimages.tbl\", \"corrections.tbl\", \"corrected\")\n",
    "mImgtbl(\"corrected\", \"cimages.tbl\")\n",
    "\n",
    "rtn = mAdd(\"corrected\", \"cimages.tbl\", \"../region.hdr\", \"2massk.fits\")\n",
    "\n",
    "mViewer(\"-ct 1 -gray 2massk.fits -2s max gaussian-log -out 2massk.png\", \"\", mode=2)\n",
    "\n",
    "img = cv.imread(\"2massk.png\")\n",
    "img = cv.resize(img, shape)\n",
    "cv.imwrite('2massk_small.png', img)\n",
    "\n",
    "Image(filename='2massk_small.png')"
   ]
  },
  {
   "cell_type": "markdown",
   "metadata": {},
   "source": [
    "\n",
    "\n",
    "## Create 2MASS Color Mosaic\n",
    "\n",
    "Now that we have FITS images for all three (J, H and K) 2MASS wavelengths, we can create a color-composite 2MASS PNG for the region:"
   ]
  },
  {
   "cell_type": "code",
   "execution_count": null,
   "metadata": {},
   "outputs": [],
   "source": [
    "now = datetime.datetime.now()\n",
    "print(now.strftime(\"%Y-%m-%d %H:%M:%S\"))\n",
    "\n",
    "os.chdir(home + \"/2MASSK\")\n",
    "\n",
    "os.chdir(home)\n",
    "\n",
    "rtn = mViewer(\"-blue  2MASSJ/mosaic.fits -1s max gaussian-log \"\n",
    "              \"-green 2MASSH/mosaic.fits -1s max gaussian-log \"\n",
    "              \"-red   2MASSK/mosaic.fits -1s max gaussian-log -out 2MASS.png\",\n",
    "              \"\", mode=2)\n",
    "\n",
    "img = cv.imread(\"2MASS.png\")\n",
    "img = cv.resize(img, shape)\n",
    "cv.imwrite('2MASS_small.png', img)\n",
    "\n",
    "Image('2MASS_small.png')"
   ]
  },
  {
   "cell_type": "markdown",
   "metadata": {},
   "source": [
    "\n",
    "and a grayscale image with exactly the same coverage from MeerKAT:"
   ]
  },
  {
   "cell_type": "code",
   "execution_count": null,
   "metadata": {},
   "outputs": [],
   "source": [
    "now = datetime.datetime.now()\n",
    "print(now.strftime(\"%Y-%m-%d %H:%M:%S\"))\n",
    "\n",
    "os.chdir(home)\n",
    "\n",
    "rtn = mViewer(\"-gray MeerKAT_Galactic_Centre_1284MHz-StokesI.fits \"\n",
    "              \"-1s max gaussian-log -out MeerKAT.png\",\n",
    "              \"\", mode=2)\n",
    "\n",
    "img = cv.imread(\"MeerKAT.png\")\n",
    "img = cv.resize(img, shape)\n",
    "cv.imwrite('MeerKAT_small.png', img)\n",
    "\n",
    "Image('MeerKAT_small.png')"
   ]
  },
  {
   "cell_type": "markdown",
   "metadata": {},
   "source": [
    "\n",
    "\n",
    "## Overlay 2MASS and MeerKAT Images and Blend Together\n",
    "\n",
    "There are several options for combining the MeerKAT and 2MASS.  We could build a 3-color composite using two of the 2MASS wavelengths and MeerKAT (probably 2MASS J, 2MASS K, and MeerKAT) but we have chosen instead to use \"photo-processing\") toolkit the blend the two images above together.  The MeerKAT image is here overlaid as a grayscale, translucent layer on the full color 2MASS image.  There are a lot of options to how we set the brightness and contrast of each and the relative weight of the blending.  Feel free to tweak these parameters to emphasize the features you wish to illustrate."
   ]
  },
  {
   "cell_type": "code",
   "execution_count": null,
   "metadata": {},
   "outputs": [],
   "source": [
    "now = datetime.datetime.now()\n",
    "print(now.strftime(\"%Y-%m-%d %H:%M:%S\"))\n",
    "\n",
    "contrast   = 2.0\n",
    "brightness = -1.0\n",
    "\n",
    "os.chdir(home)\n",
    "\n",
    "tmassPath = os.path.join(home, '2MASS.png')\n",
    "tmass = cv.imread(tmassPath)\n",
    "\n",
    "tmassStretch = cv.addWeighted(tmass, contrast, tmass, 0, brightness)\n",
    "\n",
    "cv.imwrite('2massStretch.png', tmassStretch)\n",
    "\n",
    "# -------------------\n",
    "   \n",
    "contrast   = 3.0\n",
    "brightness = -128.0\n",
    "\n",
    "meerkatPath = os.path.join(home, 'MeerKAT.png')\n",
    "meerkat = cv.imread(meerkatPath)\n",
    "\n",
    "meerkatStretch = cv.addWeighted(meerkat, contrast, meerkat, 0, brightness)\n",
    "\n",
    "cv.imwrite('meerkatStretch.png', meerkatStretch)\n",
    "\n",
    "# -------------------\n",
    "\n",
    "alpha = 0.6\n",
    "beta  = 1.0 - alpha\n",
    "gamma = 0.0\n",
    "\n",
    "imgBlend = cv.addWeighted(tmassStretch, alpha, meerkatStretch, beta, gamma)\n",
    "\n",
    "cv.imwrite('MeerKAT_2MASS.png', imgBlend)\n",
    "\n",
    "img = cv.imread(\"MeerKAT_2MASS.png\")\n",
    "img = cv.resize(img, shape)\n",
    "cv.imwrite('MeerKAT_2MASS_small.png', img)\n",
    "\n",
    "Image(filename=\"MeerKAT_2MASS_small.png\")"
   ]
  },
  {
   "cell_type": "markdown",
   "metadata": {},
   "source": [
    "\n",
    "Note that all of the images shown on the page are essentially thumbnails; they have been shrunken by a factor of about 10 in both dimensions.\n",
    "\n",
    "Also, except for the final composite above, no attempt has been made to perform brightness stretching on the images.  See the files on disk for the original data.\n"
   ]
  },
  {
   "cell_type": "code",
   "execution_count": null,
   "metadata": {},
   "outputs": [],
   "source": [
    "now = datetime.datetime.now()\n",
    "print(now.strftime(\"%Y-%m-%d %H:%M:%S\"))"
   ]
  }
 ],
 "metadata": {
  "kernelspec": {
   "display_name": "Python 3 (ipykernel)",
   "language": "python",
   "name": "python3"
  },
  "language_info": {
   "codemirror_mode": {
    "name": "ipython",
    "version": 3
   },
   "file_extension": ".py",
   "mimetype": "text/x-python",
   "name": "python",
   "nbconvert_exporter": "python",
   "pygments_lexer": "ipython3",
   "version": "3.11.4"
  }
 },
 "nbformat": 4,
 "nbformat_minor": 2
}
