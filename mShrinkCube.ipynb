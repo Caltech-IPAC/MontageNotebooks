{
 "cells": [
  {
   "cell_type": "markdown",
   "metadata": {},
   "source": [
    "<font style=\"font-size:96px; font-weight:bolder; color:#0040a0\"><img src=\"http://montage.ipac.caltech.edu/docs/M51_logo.png\" alt=\"M\" style=\"float: left; padding: 25px 30px 25px 0px;\" /></font>\n",
    "\n",
    "<i><b>Montage</b> Montage is an astronomical image toolkit with components for reprojection, background matching, coaddition and visualization of FITS files. It can be used as a set of command-line tools (Linux, OS X and Windows), C library calls (Linux and OS X) and as Python binary extension modules.\n",
    "\n",
    "The Montage source is written in ANSI-C and code can be downloaded from GitHub ( https://github.com/Caltech-IPAC/Montage ). The Python package can be installed from PyPI (\"</i>pip install MontagePy<i>\"). The package has no external dependencies. See http://montage.ipac.caltech.edu/ for details on the design and applications of Montage.\n"
   ]
  },
  {
   "cell_type": "markdown",
   "metadata": {},
   "source": [
    "# MontagePy.main modules: mShrinkCube\n",
    "\n",
    "Most of Montage is focused on 2D astronomical image mosaics: reprojection, background matching, coaddition and so on.  But there is also a need for tools that operate on data \"cubes\": three- or four-dimensional arrays where two of the axes represent the same projected sky coordinates as we find in the 2D images.  Usually, the third axis is some form of wavelength.\n",
    "\n",
    "The problem sets are not completely parallel: datacubes do not generally need background matching but you do frequently want cutouts in the none spatial dimensions and to transpose axes.\n",
    "\n",
    "Montage includes a set of routines for manipulating datacubes:\n",
    "\n",
    "<ul>\n",
    "<li><b>mmProjectCube</b> &mdash; Reproject the spatial dimensions.</li>\n",
    "<li><b>mAddCube</b> &mdash; Reproject the cube.</li>\n",
    "<li><b>mShrinkCube</b> &mdash; Rescale a cube (integer scaling in the non-spatial dimensions).</li>\n",
    "<li><b>mSubCube</b> &mdash;Cut a portion out of a cube.</li>\n",
    "<li><b>mTranspose</b> &mdash; Transpose a cube's axes.</li>\n",
    "</ul>\n",
    "\n",
    "This routine, mShrinkCube, resizes a cube.  In the spatial dimensions it works just like mShrink and supports floating point rescale factors.  In the third (and fourth) dimensions it only supports integer resampling (<i>e.g.</i>, averaging N input wavelengths for each output wavelength).\n",
    "\n",
    "<b>Note:</b> The MontagePy python package has no external dependencies. We include other utilities on this page to aid in visualizing MontagePy package results."
   ]
  },
  {
   "cell_type": "code",
   "execution_count": 1,
   "metadata": {
    "scrolled": true
   },
   "outputs": [
    {
     "name": "stdout",
     "output_type": "stream",
     "text": [
      "Help on built-in function mShrinkCube in module MontagePy.main:\n",
      "\n",
      "mShrinkCube(...)\n",
      "    mShrinkCube is a utility program for making smaller versions of a FITS file by averaging NxN blocks of pixels spatially and M values in the third and fourth cube dimensions.  N can be fractional but M must be an integer.\n",
      "    \n",
      "    Parameters\n",
      "    ----------\n",
      "    infile : str\n",
      "        Input FITS file.\n",
      "    output_file : str\n",
      "        Subimage output FITS file.\n",
      "    shrinkFactor : float\n",
      "        Scale factor for spatial shrinking.  Can be any positive real number.\n",
      "    mfactor : int\n",
      "        Positive integer scale factor for shrinking the third cube dimension.\n",
      "    hdu : int, optional\n",
      "        Optional HDU offset for input file.\n",
      "    fixedSize : bool, optional\n",
      "        Alternate mode: shrink so the output fits in this many pixels.\n",
      "    debug : int, optional\n",
      "        Debugging output level.\n",
      "    \n",
      "    \n",
      "    Returns\n",
      "    -------\n",
      "    status : int\n",
      "        Return status (0: OK, 1:ERROR).\n",
      "    msg : str\n",
      "        Return message (for errors).\n",
      "    time : float\n",
      "        Total processing time (sec).\n",
      "\n"
     ]
    }
   ],
   "source": [
    "from MontagePy.main import mShrinkCube, mViewer\n",
    "\n",
    "help(mShrinkCube)"
   ]
  },
  {
   "cell_type": "markdown",
   "metadata": {},
   "source": [
    "## mShrinkCube Example\n",
    "\n",
    "In the spatial dimensions, mShrinkCube behaves much the same as mShrink, shrinking or expanding an image by a non-integer factor.  In the third cube dimension this factor is an optional parameter and must be an integer.\n",
    "\n",
    "The data used in the datacube Jupyter pages come from the Galactic Arecibo L-band Feed Array HI (GALFA-HI) survey (Peek et al., 2011, Ap J Suppl, 194, 20; DOI 10.1088/0067-0049/194/2/20; ADS Bibcode 2011ApJS..194...20P).  These are fairly large files so what we do here is to shrink it down by a factor of ten by averaging wavelengths."
   ]
  },
  {
   "cell_type": "code",
   "execution_count": 2,
   "metadata": {},
   "outputs": [
    {
     "name": "stdout",
     "output_type": "stream",
     "text": [
      "{'status': '0', 'time': 1.0}\n"
     ]
    }
   ],
   "source": [
    "rtn = mShrinkCube('GALFA/shrunken/GALFA_HI_RA+DEC_004.00+34.35_N.fits', \n",
    "                  'work/GALFA/GALFA_HI_RA+DEC_004.00+34.35_N_m2_2.fits', \n",
    "                  2, 2)\n",
    "print(rtn)"
   ]
  },
  {
   "cell_type": "markdown",
   "metadata": {},
   "source": [
    "## Before and After\n",
    "\n",
    "Here are the original image and the resampled one. Since these are cubes, we have to collapse it in the third dimension for display. To show the effects of the resampling, we will show 1035 through 1045 of the input and 99 through 109 of the output.  These ranges are the same width (10) and centered on the same original wavelength (104)\n"
   ]
  },
  {
   "cell_type": "code",
   "execution_count": 6,
   "metadata": {},
   "outputs": [
    {
     "data": {
      "text/html": [
       "<table><tr><td><img src='work/GALFA/GALFA_HI_RA+DEC_004.00+34.35_N_shrinkcube.png'></td>                          <td><img src='work/GALFA/GALFA_HI_RA+DEC_004.00+34.35_N_m2_2_shrinkcube.png'></td></tr></table>"
      ],
      "text/plain": [
       "<IPython.core.display.HTML object>"
      ]
     },
     "metadata": {},
     "output_type": "display_data"
    }
   ],
   "source": [
    "from IPython.display import HTML, display\n",
    "\n",
    "rtn = mViewer('-gray \"GALFA/shrunken/GALFA_HI_RA+DEC_004.00+34.35_N.fits[0][60,68]\" \\\n",
    "               -2s max gaussian-log \\\n",
    "               -out work/GALFA/GALFA_HI_RA+DEC_004.00+34.35_N_shrinkcube.png',\n",
    "              '', mode=2)\n",
    "\n",
    "rtn = mViewer('-gray \"work/GALFA/GALFA_HI_RA+DEC_004.00+34.35_N_m2_2.fits[0][30,32]\" \\\n",
    "               -2s max gaussian-log \\\n",
    "               -out work/GALFA/GALFA_HI_RA+DEC_004.00+34.35_N_m2_2_shrinkcube.png',\n",
    "              '', mode=2)\n",
    "\n",
    "display(HTML(\"<table><tr><td><img src='work/GALFA/GALFA_HI_RA+DEC_004.00+34.35_N_shrinkcube.png'></td> \\\n",
    "                         <td><img src='work/GALFA/GALFA_HI_RA+DEC_004.00+34.35_N_m2_2_shrinkcube.png'></td></tr></table>\"))"
   ]
  },
  {
   "cell_type": "markdown",
   "metadata": {},
   "source": [
    "&nbsp;<p/>\n",
    "\n",
    "## mShrinkCube Error Handling\n",
    "\n",
    "If mShrinkCube encounters an error, the return structure will just have two elements: a status of 1 (\"error\") and a message string that tries to diagnose the reason for the error.\n",
    "\n",
    "For instance, if the user specifies a cube that doesn't exist: "
   ]
  },
  {
   "cell_type": "code",
   "execution_count": 7,
   "metadata": {},
   "outputs": [
    {
     "name": "stdout",
     "output_type": "stream",
     "text": [
      "{'status': '1', 'msg': b'Image file GALFA/shrunken/unknown.fits missing or invalid FITS'}\n"
     ]
    }
   ],
   "source": [
    "rtn = mShrinkCube('GALFA/shrunken/unknown.fits', \n",
    "                  'work/GALFA/GALFA_HI_RA+DEC_004.00+34.35_N_m2_2.fits', \n",
    "                  2, 2)\n",
    "print(rtn)"
   ]
  },
  {
   "cell_type": "markdown",
   "metadata": {},
   "source": [
    "&nbsp;\n",
    "\n",
    "## Classic Montage: mShrinkCube as a Stand-Alone Program\n",
    "\n",
    "### mShrinkCube Unix/Windows Command-line Arguments\n",
    "\n",
    "<p>mShrinkCube can also be run as a command-line tool in Linux, OS X, and Windows:</p>\n",
    "\n",
    "<p><tt>\n",
    "<b>Usage:</b> mShrinkCube [-f(ixed-size)] [-d level] [-h hdu] [-m factor] [-s statusfile] in.fits out.fits factor\n",
    "</tt></p>\n",
    "<p>&nbsp;</p>\n",
    "<p>If you are writing in C/C++, mShrinkCube can be accessed as a library function:</p>\n"
   ]
  },
  {
   "cell_type": "markdown",
   "metadata": {},
   "source": [
    "<pre>\n",
    "/*-***********************************************************************/\n",
    "/*                                                                       */\n",
    "/*  mCubeShrink                                                          */\n",
    "/*                                                                       */\n",
    "/*  This module, is a utility program for making smaller versions of a   */\n",
    "/*  FITS file by averaging NxN blocks of pixels spatially and M values   */\n",
    "/*  in the third and fourth cube dimensions.  N can be fractional but    */\n",
    "/*  M must be an integer.                                                */\n",
    "/*                                                                       */\n",
    "/*   char  *infile         Input FITS file                               */\n",
    "/*   char  *output_file    Shrunken output FITS file                     */\n",
    "/*                                                                       */\n",
    "/*   double shrinkFactor   Scale factor for spatial shrinking.  Can be   */\n",
    "/*                         any positive real number                      */\n",
    "/*                                                                       */\n",
    "/*   int    mfactor        Positive integer scale factor for shrinking   */\n",
    "/*                         the third cube dimension                      */\n",
    "/*                                                                       */\n",
    "/*   int    hdu            Optional HDU offset for input file            */\n",
    "/*                                                                       */\n",
    "/*   int    fixedSize      Alternate mode: shrink so the output fits     */\n",
    "/*                         in this many pixels                           */\n",
    "/*                                                                       */\n",
    "/*   int    debug          Debugging output level                        */\n",
    "/*                                                                       */\n",
    "/*************************************************************************/\n",
    "\n",
    "struct mShrinkCubeReturn *mShrinkCube(char *input_file, char *output_file, double shrinkFactor, \n",
    "                                int mfactor, int hduin, int fixedSize, int debug)\n",
    "</pre>\n",
    "<p><b>Return Structure</b></p>\n",
    "<pre>\n",
    "struct mShrinkCubeReturn\n",
    "{\n",
    "   int    status;        // Return status (0: OK, 1:ERROR)\n",
    "   char   msg [1024];    // Return message (for error return)\n",
    "   char   json[4096];    // Return parameters as JSON string\n",
    "   double time;          // Run time (sec)   \n",
    "};\n",
    "</pre>"
   ]
  }
 ],
 "metadata": {
  "kernelspec": {
   "display_name": "Python 3",
   "language": "python",
   "name": "python3"
  },
  "language_info": {
   "codemirror_mode": {
    "name": "ipython",
    "version": 3
   },
   "file_extension": ".py",
   "mimetype": "text/x-python",
   "name": "python",
   "nbconvert_exporter": "python",
   "pygments_lexer": "ipython3",
   "version": "3.6.5"
  }
 },
 "nbformat": 4,
 "nbformat_minor": 2
}
