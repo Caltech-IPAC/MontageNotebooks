{
 "cells": [
  {
   "cell_type": "markdown",
   "metadata": {},
   "source": [
    "<font style=\"font-size:96px; font-weight:bolder; color:#0040a0\"><img src=\"http://montage.ipac.caltech.edu/docs/M51_logo.png\" alt=\"M\" style=\"float: left; padding: 25px 30px 25px 0px;\" /></font>\n",
    "\n",
    "<i><b>Montage</b> Montage is an astronomical image toolkit with components for reprojection, background matching, coaddition and visualization of FITS files. It can be used as a set of command-line tools (Linux, OS X and Windows), C library calls (Linux and OS X) and as Python binary extension modules.\n",
    "\n",
    "The Montage source is written in ANSI-C and code can be downloaded from GitHub ( https://github.com/Caltech-IPAC/Montage ). The Python package can be installed from PyPI (\"</i>pip install MontagePy<i>\"). The package has no external dependencies. See http://montage.ipac.caltech.edu/ for details on the design and applications of Montage.\n"
   ]
  },
  {
   "cell_type": "markdown",
   "metadata": {},
   "source": [
    "# MontagePy.main modules: mTANHdr\n",
    "\n",
    "mTANHdr is a special utility that extends the range of the mProjectPP reprojection module.  mProjectPP is much faster than the more general mProject but is limited to tangent-plane projections (<i>e.g.</i>, TAN, SIN). It does, however, support focal-plane distortion parameters (<i>e.g.</i>, TAN-SIP) so there is a trick we can use that lets is work with a range of other projections.\n",
    "\n",
    "Many images we deal with in astronomy cover a fairly small area on the sky and in those areas it is often the case that many projections (<i>e.g.</i>, cylindrical CAR) can be matched with a distorted TAN to very small fractions of a pixel and the extra time taken in fitting for the distortion parameter values is more that made up for by the speed-up in using mProjectPP for the reprojection."
   ]
  },
  {
   "cell_type": "code",
   "execution_count": 1,
   "metadata": {
    "scrolled": true
   },
   "outputs": [
    {
     "name": "stdout",
     "output_type": "stream",
     "text": [
      "Help on built-in function mTANHdr in module MontagePy.main:\n",
      "\n",
      "mTANHdr(...)\n",
      "    mTANHdr attempts to create a distorted-TAN header that matches the original image header (to speed reprojection in mProjectPP).\n",
      "    \n",
      "    Parameters\n",
      "    ----------\n",
      "    template : str\n",
      "        Original image file FITS header.\n",
      "    tanTemplate : str\n",
      "        Output matching distorted-TAN header.\n",
      "    order : int, optional\n",
      "        Polynomial order for distortions.\n",
      "    maxiter : int, optional\n",
      "        Maximum number of iterations for fitting.\n",
      "    tolerance : float, optional\n",
      "        Tolerance (fractional pixel maximum error) for fit.\n",
      "    useOffscl : bool, optional\n",
      "        Include pixels that are just off the image in fitting.\n",
      "    debug : int, optional\n",
      "        Debugging output flag.\n",
      "    \n",
      "    \n",
      "    Returns\n",
      "    -------\n",
      "    status : int\n",
      "        Return status (0: OK, 1:ERROR).\n",
      "    msg : str\n",
      "        Return message (for errors).\n",
      "    fwdxerr : float\n",
      "        Maximum pixel error for forward transform in X axis.\n",
      "    fwdyerr : float\n",
      "        Maximum pixel error for forward transform in Y axis.\n",
      "    fwditer : int\n",
      "        Number of iterations ins in forward fitting.\n",
      "    revxerr : float\n",
      "        Maximum pixel error for reverse transform in X axis.\n",
      "    revyerr : float\n",
      "        Maximum pixel error for reverse transform in Y axis.\n",
      "    reviter : int\n",
      "        Number of iterations ins in reverse fitting.\n",
      "\n"
     ]
    }
   ],
   "source": [
    "from MontagePy.main import mTANHdr, mViewer\n",
    "\n",
    "help(mTANHdr)"
   ]
  },
  {
   "cell_type": "markdown",
   "metadata": {},
   "source": [
    "## Example\n",
    "\n",
    "One of the products in these examples is a mosaic of a one-degree square area around M17.  This is normally done in TAN (gnomonic) projection but we can also so it in the simple cylindrical CAR projection, then reproject this mosaic to TAN either with mProject or with mProjectPP using a distorted TAN header made by mTANHdr:"
   ]
  },
  {
   "cell_type": "code",
   "execution_count": 2,
   "metadata": {},
   "outputs": [
    {
     "name": "stdout",
     "output_type": "stream",
     "text": [
      "{'status': '0', 'fwdxerr': 0.003812273559105961, 'fwdyerr': 0.009351456828881055, 'fwditer': 13, 'revxerr': 0.003837209781522688, 'revyerr': 0.00967726188900997, 'reviter': 13}\n"
     ]
    }
   ],
   "source": [
    "rtn = mTANHdr(\"M17/mosaic_car.hdr\", \"work/M17/distorted.hdr\")\n",
    "\n",
    "print(rtn)"
   ]
  },
  {
   "cell_type": "markdown",
   "metadata": {},
   "source": [
    "The error values in the return show the worst-case positional difference between the distorted TAN and original CAR projections, in pixels.  In this case, since the pixels are 1 arcsecond, the maximum positional difference is around 10 milli-arcseconds.\n",
    "\n",
    "Reprojecting the CAR image with mProject takes about 280 seconds.  Using mProjectPP and this distorted TAN header takes only 12 seconds; a factor of 23 faster.\n",
    "\n",
    "Here is the distorted TAN header that mTANHdr produced:"
   ]
  },
  {
   "cell_type": "code",
   "execution_count": 3,
   "metadata": {},
   "outputs": [
    {
     "name": "stdout",
     "output_type": "stream",
     "text": [
      "SIMPLE  = T\n",
      "BITPIX  = -64\n",
      "NAXIS   = 2\n",
      "NAXIS1  = 3600\n",
      "NAXIS2  = 3600\n",
      "CTYPE1  = 'RA---TAN-SIP'\n",
      "CTYPE2  = 'DEC--TAN-SIP'\n",
      "CRVAL1  =  275.1962900000\n",
      "CRVAL2  =  -16.1715300000\n",
      "CRPIX1  = 1800.5000000000\n",
      "CRPIX2  = 1800.5000000000\n",
      "CDELT1  = -0.0002777784\n",
      "CDELT2  = 0.0002777758\n",
      "CROTA2  = 0.000000\n",
      "EQUINOX = 2000.0\n",
      "A_ORDER = 4\n",
      "A_0_0   = -2.956e-03\n",
      "A_0_1   = -1.836e-11\n",
      "A_0_2   = -1.832e-14\n",
      "A_0_3   =  8.875e-19\n",
      "A_0_4   =  4.903e-24\n",
      "A_1_0   = -4.546e-07\n",
      "A_1_1   = -6.517e-14\n",
      "A_1_2   =  8.148e-18\n",
      "A_1_3   =  3.317e-22\n",
      "A_1_4   = -2.100e-25\n",
      "A_2_0   = -2.177e-11\n",
      "A_2_1   =  9.580e-18\n",
      "A_2_2   =  7.656e-22\n",
      "A_2_3   = -1.784e-24\n",
      "A_2_4   =  2.277e-28\n",
      "A_3_0   =  7.835e-12\n",
      "A_3_1   =  1.009e-22\n",
      "A_3_2   = -1.723e-24\n",
      "A_3_3   =  6.697e-28\n",
      "A_3_4   = -8.159e-32\n",
      "A_4_0   = -3.595e-21\n",
      "A_4_1   = -1.894e-25\n",
      "A_4_2   =  2.112e-28\n",
      "A_4_3   = -7.775e-32\n",
      "A_4_4   =  8.966e-36\n",
      "B_ORDER = 4\n",
      "B_0_0   = -7.397e-03\n",
      "B_0_1   =  3.992e-06\n",
      "B_0_2   = -2.249e-11\n",
      "B_0_3   =  7.834e-12\n",
      "B_0_4   = -3.489e-21\n",
      "B_1_0   = -4.590e-07\n",
      "B_1_1   = -1.998e-11\n",
      "B_1_2   = -1.888e-15\n",
      "B_1_3   = -3.341e-19\n",
      "B_1_4   =  1.068e-25\n",
      "B_2_0   = -1.176e-11\n",
      "B_2_1   =  1.175e-11\n",
      "B_2_2   = -4.996e-19\n",
      "B_2_3   =  5.687e-22\n",
      "B_2_4   = -9.854e-29\n",
      "B_3_0   = -1.537e-15\n",
      "B_3_1   = -8.324e-19\n",
      "B_3_2   =  5.440e-25\n",
      "B_3_3   = -1.331e-28\n",
      "B_3_4   =  1.775e-32\n",
      "B_4_0   = -2.078e-19\n",
      "B_4_1   =  7.558e-22\n",
      "B_4_2   =  4.237e-30\n",
      "B_4_3   =  1.628e-33\n",
      "B_4_4   = -2.570e-36\n",
      "AP_ORDER= 4\n",
      "AP_0_0  =  2.953e-03\n",
      "AP_0_1  =  6.061e-11\n",
      "AP_0_2  =  1.052e-14\n",
      "AP_0_3  =  4.444e-19\n",
      "AP_0_4  = -2.154e-23\n",
      "AP_1_0  =  4.491e-07\n",
      "AP_1_1  =  2.325e-14\n",
      "AP_1_2  =  2.091e-18\n",
      "AP_1_3  =  1.092e-22\n",
      "AP_1_4  = -7.791e-25\n",
      "AP_2_0  =  1.853e-11\n",
      "AP_2_1  = -1.214e-18\n",
      "AP_2_2  = -1.847e-22\n",
      "AP_2_3  = -6.031e-24\n",
      "AP_2_4  =  1.050e-27\n",
      "AP_3_0  = -7.835e-12\n",
      "AP_3_1  = -6.948e-22\n",
      "AP_3_2  = -3.034e-24\n",
      "AP_3_3  =  2.542e-27\n",
      "AP_3_4  = -4.098e-31\n",
      "AP_4_0  =  1.215e-19\n",
      "AP_4_1  =  2.850e-25\n",
      "AP_4_2  =  4.045e-28\n",
      "AP_4_3  = -3.143e-31\n",
      "AP_4_4  =  4.953e-35\n",
      "BP_ORDER= 4\n",
      "BP_0_0  =  7.466e-03\n",
      "BP_0_1  = -4.007e-06\n",
      "BP_0_2  =  1.376e-11\n",
      "BP_0_3  = -7.835e-12\n",
      "BP_0_4  =  1.216e-19\n",
      "BP_1_0  =  4.467e-07\n",
      "BP_1_1  = -1.136e-12\n",
      "BP_1_2  = -5.383e-15\n",
      "BP_1_3  = -9.955e-19\n",
      "BP_1_4  = -2.037e-25\n",
      "BP_2_0  = -2.355e-12\n",
      "BP_2_1  = -1.176e-11\n",
      "BP_2_2  = -1.493e-18\n",
      "BP_2_3  =  1.944e-21\n",
      "BP_2_4  =  4.415e-28\n",
      "BP_3_0  = -2.717e-15\n",
      "BP_3_1  = -1.494e-18\n",
      "BP_3_2  = -6.788e-24\n",
      "BP_3_3  =  1.460e-27\n",
      "BP_3_4  = -1.595e-31\n",
      "BP_4_0  = -3.739e-19\n",
      "BP_4_1  =  1.446e-21\n",
      "BP_4_2  =  7.693e-28\n",
      "BP_4_3  = -1.633e-31\n",
      "BP_4_4  =  2.201e-35\n",
      "END\n"
     ]
    }
   ],
   "source": [
    "with open(\"work/M17/distorted.hdr\", \"r\") as file:\n",
    "    for line in file:  \n",
    "        print(line, end='')"
   ]
  },
  {
   "cell_type": "markdown",
   "metadata": {},
   "source": [
    "&nbsp;<p/>\n",
    "\n",
    "## Error Handling\n",
    "\n",
    "If mTANHdr encounters an error, the return structure will just have two elements: a status of 1 (\"error\") and a message string that tries to diagnose the reason for the error.\n",
    "\n",
    "For instance, if the user specifies a header file that doesn't exist: "
   ]
  },
  {
   "cell_type": "code",
   "execution_count": 5,
   "metadata": {},
   "outputs": [
    {
     "name": "stdout",
     "output_type": "stream",
     "text": [
      "{'status': '1', 'msg': b'Bad template: input/M17/unknown.hdr'}\n"
     ]
    }
   ],
   "source": [
    "rtn = mTANHdr(\"input/M17/unknown.hdr\", \"work/M17/distorted.hdr\")\n",
    "\n",
    "print(rtn)"
   ]
  },
  {
   "cell_type": "markdown",
   "metadata": {},
   "source": [
    "&nbsp;\n",
    "\n",
    "## Classic Montage: mTANHdr as a Stand-Alone Program\n",
    "\n",
    "### mTANHdr Unix/Windows Command-line Arguments\n",
    "\n",
    "<p>mTANHdr can also be run as a command-line tool in Linux, OS X, and Windows:</p>\n",
    "\n",
    "<p><tt>\n",
    "<b>Usage:</b> No child program executable or program aborted\n",
    "</tt></p>\n",
    "<p>&nbsp;</p>\n",
    "<p>If you are writing in C/C++, mTANHdr can be accessed as a library function:</p>\n"
   ]
  },
  {
   "cell_type": "markdown",
   "metadata": {},
   "source": [
    "<pre>\n",
    "/*-***********************************************************************/\n",
    "/*                                                                       */\n",
    "/*  mTANHdr                                                              */\n",
    "/*                                                                       */\n",
    "/*  Montage is a set of general reprojection / coordinate-transform /    */\n",
    "/*  mosaicking programs.  Any number of input images can be merged into  */\n",
    "/*  an output FITS file.  The attributes of the input are read from the  */\n",
    "/*  input files; the attributes of the output are read a combination of  */\n",
    "/*  the command line and a FITS header template file.                    */\n",
    "/*                                                                       */\n",
    "/*  There are two main reprojection modules, mProject and mProjectPP.    */\n",
    "/*  The first can handle any projection transformation but is slow.  The */\n",
    "/*  second can only handle transforms between tangent plane projections  */\n",
    "/*  but is very fast.  In many cases, however, a non-tangent-plane       */\n",
    "/*  projection can be approximated by a TAN projection with pixel-space  */\n",
    "/*  distortions (in particular when the region covered is small, which   */\n",
    "/*  is often the case in practice).                                      */\n",
    "/*                                                                       */\n",
    "/*  This module analyzes a template file and determines if there is      */\n",
    "/*  an adequate equivalent distorted TAN projection that would be        */\n",
    "/*  equivelent (i.e. location shifts less than, say, 0.01 pixels).       */\n",
    "/*  mProjectPP can then be used to produce this distorted TAN image      */\n",
    "/*  with the original non-TAN FITS header swapped in before writing      */\n",
    "/*  to disk.                                                             */\n",
    "/*                                                                       */\n",
    "/*                                                                       */\n",
    "/*  NOTE:  The 'reverse' error is the important one for deciding whether */\n",
    "/*  the new distorted-TAN header can be used in place of the original    */\n",
    "/*  when reprojecting in mProjectPP since it is a measure of the         */\n",
    "/*  process of going from distorted TAN to sky to original projection.   */\n",
    "/*  Since the second part of this is exact, this error is all about how  */\n",
    "/*  accurately the distorted-TAN maps to the right point of the sky.     */\n",
    "/*                                                                       */\n",
    "/*   char  *origtmpl       Original image file FITS header               */\n",
    "/*   char  *newtmpl        Output matching distorted-TAN header          */\n",
    "/*   int    order          Polynomial order for distortions              */\n",
    "/*   int    maxiter        Maximum number of iterations for fitting      */\n",
    "/*   int    tolerance      Tolerance (maximum error) for fit             */\n",
    "/*   int    useOffscl      Include in the fitting pixels that are        */\n",
    "/*                         just off the image                            */\n",
    "/*                                                                       */\n",
    "/*   int    debug          Debugging output flag                         */\n",
    "/*                                                                       */\n",
    "/*************************************************************************/\n",
    "\n",
    "struct mTANHdrReturn *mTANHdr(char *origtmpl, char *newtmpl, int order, int maxiter, double tolerance, \n",
    "                              int useOffscl, int debugin)\n",
    "</pre>\n",
    "<p><b>Return Structure</b></p>\n",
    "<pre>\n",
    "struct mTANHdrReturn\n",
    "{\n",
    "   int    status;        // Return status (0: OK, 1:ERROR)\n",
    "   char   msg [1024];    // Return message (for error return)\n",
    "   char   json[4096];    // Return parameters as JSON string\n",
    "   double fwdxerr;       // Maximum error in X for forward transformation\n",
    "   double fwdyerr;       // Maximum error in Y for forward transformation\n",
    "   double fwditer;       // Number of iterations needed in forward transformation\n",
    "   double revxerr;       // Maximum error in X for reverse transformation\n",
    "   double revyerr;       // Maximum error in Y for reverse transformation\n",
    "   double reviter;       // Number of iterations needed in reverse transformation\n",
    "};\n",
    "</pre>"
   ]
  },
  {
   "cell_type": "code",
   "execution_count": null,
   "metadata": {},
   "outputs": [],
   "source": []
  }
 ],
 "metadata": {
  "kernelspec": {
   "display_name": "Python 3",
   "language": "python",
   "name": "python3"
  },
  "language_info": {
   "codemirror_mode": {
    "name": "ipython",
    "version": 3
   },
   "file_extension": ".py",
   "mimetype": "text/x-python",
   "name": "python",
   "nbconvert_exporter": "python",
   "pygments_lexer": "ipython3",
   "version": "3.6.5"
  }
 },
 "nbformat": 4,
 "nbformat_minor": 2
}
